{
  "cells": [
    {
      "cell_type": "markdown",
      "metadata": {
        "id": "view-in-github",
        "colab_type": "text"
      },
      "source": [
        "<a href=\"https://colab.research.google.com/github/alcorrea40/python-colab-notebooks/blob/main/Precedencia_Operadores_Colab.ipynb\" target=\"_parent\"><img src=\"https://colab.research.google.com/assets/colab-badge.svg\" alt=\"Open In Colab\"/></a>"
      ]
    },
    {
      "cell_type": "markdown",
      "id": "37488695",
      "metadata": {
        "id": "37488695"
      },
      "source": [
        "# Actividad Interactiva: Precedencia y Combinación de Operadores"
      ]
    },
    {
      "cell_type": "markdown",
      "id": "d90c67e1",
      "metadata": {
        "id": "d90c67e1"
      },
      "source": [
        "En esta actividad explorarás cómo la precedencia de operadores afecta el resultado de expresiones en Python. Aprenderás a utilizar paréntesis para controlar el orden de evaluación y resolverás desafíos que combinan operadores aritméticos y lógicos."
      ]
    },
    {
      "cell_type": "markdown",
      "id": "3560315c",
      "metadata": {
        "id": "3560315c"
      },
      "source": [
        "## 1. Ejemplos guiados"
      ]
    },
    {
      "cell_type": "code",
      "execution_count": 1,
      "id": "93fee742",
      "metadata": {
        "id": "93fee742",
        "outputId": "a93f9efe-b730-4822-b38d-df40ccc6ceb2",
        "colab": {
          "base_uri": "https://localhost:8080/"
        }
      },
      "outputs": [
        {
          "output_type": "stream",
          "name": "stdout",
          "text": [
            "Resultado sin paréntesis: 20\n",
            "Resultado con paréntesis: 30\n"
          ]
        }
      ],
      "source": [
        "# Sin paréntesis\n",
        "resultado1 = 10 + 5 * 2\n",
        "print('Resultado sin paréntesis:', resultado1)\n",
        "\n",
        "# Con paréntesis\n",
        "resultado2 = (10 + 5) * 2\n",
        "print('Resultado con paréntesis:', resultado2)"
      ]
    },
    {
      "cell_type": "code",
      "execution_count": 2,
      "id": "ffb82a83",
      "metadata": {
        "id": "ffb82a83",
        "outputId": "e3c34752-42bb-41d2-ff74-7f9d5f48fc91",
        "colab": {
          "base_uri": "https://localhost:8080/"
        }
      },
      "outputs": [
        {
          "output_type": "stream",
          "name": "stdout",
          "text": [
            "Resultado lógico: True\n",
            "Resultado lógico agrupado: False\n"
          ]
        }
      ],
      "source": [
        "# Operadores lógicos con precedencia\n",
        "x = True\n",
        "y = False\n",
        "resultado3 = x or x and y\n",
        "print('Resultado lógico:', resultado3)\n",
        "\n",
        "# Agrupando con paréntesis\n",
        "resultado4 = (x or x) and y\n",
        "print('Resultado lógico agrupado:', resultado4)"
      ]
    },
    {
      "cell_type": "markdown",
      "id": "28fe48ce",
      "metadata": {
        "id": "28fe48ce"
      },
      "source": [
        "## 2. Desafíos"
      ]
    },
    {
      "cell_type": "code",
      "execution_count": 3,
      "id": "46c34fa3",
      "metadata": {
        "id": "46c34fa3",
        "outputId": "f81e08db-2c60-411a-b4f0-a1c2efb92c01",
        "colab": {
          "base_uri": "https://localhost:8080/"
        }
      },
      "outputs": [
        {
          "output_type": "stream",
          "name": "stdout",
          "text": [
            "Resultado desafío 1: 25\n"
          ]
        }
      ],
      "source": [
        "# Desafío 1: Evalúa esta expresión y ajusta con paréntesis para obtener el resultado esperado\n",
        "# Modifica los paréntesis para que el resultado sea 30\n",
        "expresion = 5 + 10 * 2\n",
        "print('Resultado desafío 1:', expresion)"
      ]
    },
    {
      "cell_type": "code",
      "execution_count": 4,
      "id": "3a077f23",
      "metadata": {
        "id": "3a077f23",
        "outputId": "e427a898-ab4a-42eb-c4cb-25906b2151ee",
        "colab": {
          "base_uri": "https://localhost:8080/"
        }
      },
      "outputs": [
        {
          "output_type": "stream",
          "name": "stdout",
          "text": [
            "Resultado desafío 2: True\n"
          ]
        }
      ],
      "source": [
        "# Desafío 2: Usa operadores lógicos y aritméticos para obtener True como resultado final\n",
        "# Ajusta los paréntesis si es necesario\n",
        "resultado = (3 > 2) and (5 < 10) or False\n",
        "print('Resultado desafío 2:', resultado)"
      ]
    },
    {
      "cell_type": "markdown",
      "id": "030b8921",
      "metadata": {
        "id": "030b8921"
      },
      "source": [
        "### ✅ Reflexión\n",
        "Comenta cómo el uso correcto de paréntesis y el conocimiento de la precedencia puede evitar errores en tus programas."
      ]
    }
  ],
  "metadata": {
    "colab": {
      "provenance": [],
      "include_colab_link": true
    },
    "language_info": {
      "name": "python"
    },
    "kernelspec": {
      "name": "python3",
      "display_name": "Python 3"
    }
  },
  "nbformat": 4,
  "nbformat_minor": 5
}
