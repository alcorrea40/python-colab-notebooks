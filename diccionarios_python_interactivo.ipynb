{
  "cells": [
    {
      "cell_type": "markdown",
      "metadata": {
        "id": "view-in-github",
        "colab_type": "text"
      },
      "source": [
        "<a href=\"https://colab.research.google.com/github/alcorrea40/python-colab-notebooks/blob/main/diccionarios_python_interactivo.ipynb\" target=\"_parent\"><img src=\"https://colab.research.google.com/assets/colab-badge.svg\" alt=\"Open In Colab\"/></a>"
      ]
    },
    {
      "cell_type": "markdown",
      "metadata": {
        "id": "d80NpcmvYqs2"
      },
      "source": [
        "# 📘 Diccionarios en Python: creación, acceso y operaciones comunes\n",
        "Este notebook te ayudará a practicar cómo crear, modificar, acceder y eliminar elementos en diccionarios de Python."
      ]
    },
    {
      "cell_type": "code",
      "execution_count": 1,
      "metadata": {
        "colab": {
          "base_uri": "https://localhost:8080/"
        },
        "id": "vOQPKB4-Yqs5",
        "outputId": "73faf986-bd7f-49cc-9544-0617d38b8bb2"
      },
      "outputs": [
        {
          "output_type": "stream",
          "name": "stdout",
          "text": [
            "Nombre: Carlos\n",
            "{'nombre': 'Carlos', 'edad': 23, 'promedio': 4.2}\n"
          ]
        }
      ],
      "source": [
        "# Diccionario que representa un estudiante\n",
        "estudiante = {\n",
        "    \"nombre\": \"Carlos\",\n",
        "    \"edad\": 22,\n",
        "    \"carrera\": \"Economía\"\n",
        "}\n",
        "\n",
        "# Acceso a valores\n",
        "print(\"Nombre:\", estudiante[\"nombre\"])\n",
        "\n",
        "# Actualización\n",
        "estudiante[\"edad\"] = 23\n",
        "\n",
        "# Agregar nueva clave\n",
        "estudiante[\"promedio\"] = 4.2\n",
        "\n",
        "# Eliminar una clave\n",
        "del estudiante[\"carrera\"]\n",
        "\n",
        "# Imprimir todo el diccionario\n",
        "print(estudiante)"
      ]
    },
    {
      "cell_type": "markdown",
      "metadata": {
        "id": "maguaBK3Yqs7"
      },
      "source": [
        "## 🧪 Ejercicio 1:\n",
        "Crea un diccionario llamado `producto` con claves: 'nombre', 'precio', 'stock'. Luego:\n",
        "- Actualiza el stock\n",
        "- Agrega una nueva clave 'categoría'\n",
        "- Elimina la clave 'precio'"
      ]
    },
    {
      "cell_type": "code",
      "execution_count": 2,
      "metadata": {
        "colab": {
          "base_uri": "https://localhost:8080/"
        },
        "id": "xEF8OthhYqs8",
        "outputId": "5f8df5fd-27df-4bf4-8197-bcb06b28925a"
      },
      "outputs": [
        {
          "output_type": "stream",
          "name": "stdout",
          "text": [
            "{'nombre': 'Monitor', 'stock': 10, 'categoría': 'Tecnología'}\n"
          ]
        }
      ],
      "source": [
        "# Tu solución aquí\n",
        "producto = {\n",
        "    \"nombre\": \"Monitor\",\n",
        "    \"precio\": 800,\n",
        "    \"stock\": 15\n",
        "}\n",
        "\n",
        "# Actualizar stock\n",
        "producto[\"stock\"] = 10\n",
        "\n",
        "# Agregar nueva clave\n",
        "producto[\"categoría\"] = \"Tecnología\"\n",
        "\n",
        "# Eliminar 'precio'\n",
        "del producto[\"precio\"]\n",
        "\n",
        "print(producto)"
      ]
    },
    {
      "cell_type": "markdown",
      "metadata": {
        "id": "HpJcTgl5Yqs8"
      },
      "source": [
        "## 🧪 Ejercicio 2:\n",
        "Crea una función que reciba un diccionario de estudiante y retorne True si su promedio es mayor o igual a 3.5"
      ]
    },
    {
      "cell_type": "code",
      "execution_count": 3,
      "metadata": {
        "colab": {
          "base_uri": "https://localhost:8080/"
        },
        "id": "8ymMmiK3Yqs9",
        "outputId": "4600b43b-b3dd-4a47-ea3e-4c5fc8c10e73"
      },
      "outputs": [
        {
          "output_type": "stream",
          "name": "stdout",
          "text": [
            "True\n"
          ]
        }
      ],
      "source": [
        "def es_aprobado(est):\n",
        "    return est[\"promedio\"] >= 3.5\n",
        "\n",
        "# Prueba\n",
        "nuevo_est = {\"nombre\": \"Ana\", \"promedio\": 3.7}\n",
        "print(es_aprobado(nuevo_est))"
      ]
    },
    {
      "cell_type": "markdown",
      "metadata": {
        "id": "-Dzv4E2vYqs-"
      },
      "source": [
        "## 🧪 Ejercicio 3:\n",
        "Crea una lista de diccionarios con 3 productos distintos. Luego imprime el nombre del producto con mayor precio."
      ]
    },
    {
      "cell_type": "code",
      "execution_count": 4,
      "metadata": {
        "colab": {
          "base_uri": "https://localhost:8080/"
        },
        "id": "YTMQRFehYqs-",
        "outputId": "43f39dab-e2a1-4fb0-efa8-7a4a8081de13"
      },
      "outputs": [
        {
          "output_type": "stream",
          "name": "stdout",
          "text": [
            "Producto más caro: Pantalla\n"
          ]
        }
      ],
      "source": [
        "productos = [\n",
        "    {\"nombre\": \"Teclado\", \"precio\": 50},\n",
        "    {\"nombre\": \"Mouse\", \"precio\": 30},\n",
        "    {\"nombre\": \"Pantalla\", \"precio\": 200}\n",
        "]\n",
        "\n",
        "producto_mas_caro = max(productos, key=lambda x: x[\"precio\"])\n",
        "print(\"Producto más caro:\", producto_mas_caro[\"nombre\"])"
      ]
    },
    {
      "cell_type": "code",
      "execution_count": 5,
      "metadata": {
        "colab": {
          "base_uri": "https://localhost:8080/"
        },
        "id": "qjsQrDzzYqs_",
        "outputId": "e51e5a38-4783-4de7-c583-80b79c5c154c"
      },
      "outputs": [
        {
          "output_type": "stream",
          "name": "stdout",
          "text": [
            "🎉 ¡Buen trabajo! Ahora sabes cómo usar diccionarios en Python.\n"
          ]
        }
      ],
      "source": [
        "print(\"🎉 ¡Buen trabajo! Ahora sabes cómo usar diccionarios en Python.\")"
      ]
    }
  ],
  "metadata": {
    "kernelspec": {
      "display_name": "Python 3",
      "language": "python",
      "name": "python3"
    },
    "language_info": {
      "name": "python",
      "version": ""
    },
    "colab": {
      "provenance": [],
      "include_colab_link": true
    }
  },
  "nbformat": 4,
  "nbformat_minor": 0
}