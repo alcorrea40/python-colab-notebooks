{
  "cells": [
    {
      "cell_type": "markdown",
      "metadata": {
        "id": "view-in-github",
        "colab_type": "text"
      },
      "source": [
        "<a href=\"https://colab.research.google.com/github/alcorrea40/python-colab-notebooks/blob/main/precedencia_operadores.ipynb\" target=\"_parent\"><img src=\"https://colab.research.google.com/assets/colab-badge.svg\" alt=\"Open In Colab\"/></a>"
      ]
    },
    {
      "cell_type": "markdown",
      "metadata": {
        "id": "u-LeZbzaQuBV"
      },
      "source": [
        "# ⚙️ Actividad Interactiva #2: Precedencia y Combinación de Operadores\n",
        "\n",
        "En esta actividad aprenderás cómo Python evalúa las expresiones cuando hay múltiples operadores involucrados. Usarás paréntesis para controlar el orden de ejecución y resolverás ejercicios que combinan operadores aritméticos y lógicos."
      ]
    },
    {
      "cell_type": "markdown",
      "metadata": {
        "id": "zP5ZKL64QuBW"
      },
      "source": [
        "## 🔢 Orden de precedencia (jerarquía de operadores)\n",
        "1. Paréntesis `()`\n",
        "2. Potencias `**`\n",
        "3. Signos unarios `+x`, `-x`\n",
        "4. Multiplicación `*`, División `/`, División entera `//`, Módulo `%`\n",
        "5. Suma y resta `+`, `-`\n",
        "6. Operadores de comparación `<`, `>`, `==`, `!=`, etc.\n",
        "7. Operadores lógicos: `not`, `and`, `or`\n",
        "\n",
        "Es importante usar paréntesis para clarificar o alterar el orden de evaluación."
      ]
    },
    {
      "cell_type": "code",
      "execution_count": 1,
      "metadata": {
        "colab": {
          "base_uri": "https://localhost:8080/"
        },
        "id": "0lE5vXSJQuBX",
        "outputId": "65963dfc-fcf2-4c70-8078-9d416806b2ce"
      },
      "outputs": [
        {
          "output_type": "stream",
          "name": "stdout",
          "text": [
            "Resultado sin paréntesis: 11\n"
          ]
        }
      ],
      "source": [
        "# Ejemplo 1: Precedencia sin paréntesis\n",
        "resultado = 3 + 2 * 4\n",
        "print(\"Resultado sin paréntesis:\", resultado)\n",
        "# Resultado esperado: 11 (porque se evalúa 2*4 primero)"
      ]
    },
    {
      "cell_type": "code",
      "execution_count": 2,
      "metadata": {
        "colab": {
          "base_uri": "https://localhost:8080/"
        },
        "id": "zFxkt1PVQuBY",
        "outputId": "516fe435-9b02-4e92-a927-a7aad3ebc681"
      },
      "outputs": [
        {
          "output_type": "stream",
          "name": "stdout",
          "text": [
            "Resultado con paréntesis: 20\n"
          ]
        }
      ],
      "source": [
        "# Ejemplo 2: Modificando el orden con paréntesis\n",
        "resultado = (3 + 2) * 4\n",
        "print(\"Resultado con paréntesis:\", resultado)\n",
        "# Resultado esperado: 20"
      ]
    },
    {
      "cell_type": "markdown",
      "metadata": {
        "id": "bmMp3xt7QuBY"
      },
      "source": [
        "## 💡 Ejercicio guiado\n",
        "Resuelve la siguiente expresión e imprime el resultado:\n",
        "```python\n",
        "resultado = 10 - 2 ** 2 + 3 * 2\n",
        "```"
      ]
    },
    {
      "cell_type": "code",
      "execution_count": 3,
      "metadata": {
        "colab": {
          "base_uri": "https://localhost:8080/"
        },
        "id": "VTcE836KQuBZ",
        "outputId": "bf228f14-91d3-4260-832c-67ff8683346f"
      },
      "outputs": [
        {
          "output_type": "stream",
          "name": "stdout",
          "text": [
            "Resultado: 12\n"
          ]
        }
      ],
      "source": [
        "# Escribe aquí tu respuesta\n",
        "resultado = 10 - 2 ** 2 + 3 * 2\n",
        "print(\"Resultado:\", resultado)"
      ]
    },
    {
      "cell_type": "markdown",
      "metadata": {
        "id": "zbkA0fI0QuBZ"
      },
      "source": [
        "## 🧠 Desafío\n",
        "Modifica la siguiente expresión usando paréntesis para que el resultado sea `18`:\n",
        "```python\n",
        "expresion = 10 - 2 ** 2 + 3 * 2\n",
        "```"
      ]
    },
    {
      "cell_type": "code",
      "execution_count": 4,
      "metadata": {
        "colab": {
          "base_uri": "https://localhost:8080/"
        },
        "id": "NGKpBflwQuBZ",
        "outputId": "bc9808ab-fdbe-4a71-c16d-bf3728bfc85f"
      },
      "outputs": [
        {
          "output_type": "stream",
          "name": "stdout",
          "text": [
            "Resultado modificado: 64\n"
          ]
        }
      ],
      "source": [
        "# Modifica con paréntesis para obtener 18\n",
        "# Intenta diferentes agrupaciones\n",
        "expresion = (10 - 2) ** 2\n",
        "print(\"Resultado modificado:\", expresion)"
      ]
    }
  ],
  "metadata": {
    "kernelspec": {
      "display_name": "Python 3",
      "language": "python",
      "name": "python3"
    },
    "language_info": {
      "name": "python",
      "version": ""
    },
    "colab": {
      "provenance": [],
      "include_colab_link": true
    }
  },
  "nbformat": 4,
  "nbformat_minor": 0
}