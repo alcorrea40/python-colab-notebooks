{
  "cells": [
    {
      "cell_type": "markdown",
      "metadata": {
        "id": "view-in-github",
        "colab_type": "text"
      },
      "source": [
        "<a href=\"https://colab.research.google.com/github/alcorrea40/python-colab-notebooks/blob/main/Actividad_Bucle_While.ipynb\" target=\"_parent\"><img src=\"https://colab.research.google.com/assets/colab-badge.svg\" alt=\"Open In Colab\"/></a>"
      ]
    },
    {
      "cell_type": "markdown",
      "id": "73240caf",
      "metadata": {
        "id": "73240caf"
      },
      "source": [
        "# Actividad: Bucle while con validación de entrada"
      ]
    },
    {
      "cell_type": "markdown",
      "id": "be989e0d",
      "metadata": {
        "id": "be989e0d"
      },
      "source": [
        "## 1. Contador simple"
      ]
    },
    {
      "cell_type": "code",
      "execution_count": null,
      "id": "8e16ee40",
      "metadata": {
        "id": "8e16ee40"
      },
      "outputs": [],
      "source": [
        "contador = 0\n",
        "while contador < 5:\n",
        "    print('Contador:', contador)\n",
        "    contador += 1"
      ]
    },
    {
      "cell_type": "markdown",
      "id": "6db1b1f0",
      "metadata": {
        "id": "6db1b1f0"
      },
      "source": [
        "## 2. Validar entrada del usuario"
      ]
    },
    {
      "cell_type": "code",
      "execution_count": null,
      "id": "3199183f",
      "metadata": {
        "id": "3199183f"
      },
      "outputs": [],
      "source": [
        "respuesta = ''\n",
        "while respuesta != 'sí':\n",
        "    respuesta = input('¿Ya terminaste? (escribe \"sí\") ')\n",
        "print('Gracias.')"
      ]
    },
    {
      "cell_type": "markdown",
      "id": "0956546e",
      "metadata": {
        "id": "0956546e"
      },
      "source": [
        "## Reto 💡\n",
        "Crea un programa que pregunte por un número entre 1 y 10 y siga preguntando hasta que el usuario lo acierte (número fijo o aleatorio)."
      ]
    }
  ],
  "metadata": {
    "colab": {
      "provenance": [],
      "include_colab_link": true
    }
  },
  "nbformat": 4,
  "nbformat_minor": 5
}