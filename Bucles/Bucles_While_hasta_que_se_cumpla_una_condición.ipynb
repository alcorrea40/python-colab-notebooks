{
  "nbformat": 4,
  "nbformat_minor": 0,
  "metadata": {
    "colab": {
      "provenance": [],
      "authorship_tag": "ABX9TyOYpzOK9u/6Qvv8YmvT23i6",
      "include_colab_link": true
    },
    "kernelspec": {
      "name": "python3",
      "display_name": "Python 3"
    },
    "language_info": {
      "name": "python"
    }
  },
  "cells": [
    {
      "cell_type": "markdown",
      "metadata": {
        "id": "view-in-github",
        "colab_type": "text"
      },
      "source": [
        "<a href=\"https://colab.research.google.com/github/alcorrea40/python-colab-notebooks/blob/main/Bucles_While_hasta_que_se_cumpla_una_condici%C3%B3n.ipynb\" target=\"_parent\"><img src=\"https://colab.research.google.com/assets/colab-badge.svg\" alt=\"Open In Colab\"/></a>"
      ]
    },
    {
      "cell_type": "code",
      "execution_count": 1,
      "metadata": {
        "colab": {
          "base_uri": "https://localhost:8080/"
        },
        "id": "_tCeESiTBLkp",
        "outputId": "fd81638d-77f0-42b8-ebac-66afd833a0c7"
      },
      "outputs": [
        {
          "output_type": "stream",
          "name": "stdout",
          "text": [
            "1\n",
            "2\n",
            "3\n",
            "4\n",
            "5\n",
            "Escribe algo (o 'salir' para terminar): salir\n",
            "Programa terminado.\n"
          ]
        }
      ],
      "source": [
        "# Ejemplo 1: Contar del 1 al 5\n",
        "i = 1\n",
        "while i <= 5:\n",
        "    print(i)\n",
        "    i += 1\n",
        "\n",
        "# Ejemplo 2: Esperar hasta que el usuario escriba 'salir'\n",
        "entrada = \"\"\n",
        "while entrada != \"salir\":\n",
        "    entrada = input(\"Escribe algo (o 'salir' para terminar): \")\n",
        "print(\"Programa terminado.\")\n",
        "\n",
        "# Ejercicio 1:\n",
        "# Escribe un bucle while que cuente hacia atrás desde 10 hasta 1\n",
        "\n",
        "# Ejercicio 2:\n",
        "# Escribe un programa que pida números al usuario y los sume.\n",
        "# El programa debe detenerse cuando el usuario ingrese 0.\n",
        "\n",
        "# Ejercicio 3 (Reto):\n",
        "# Crea un juego que pida adivinar un número secreto entre 1 y 10.\n",
        "# El bucle se debe repetir hasta que el usuario adivine.\n"
      ]
    }
  ]
}