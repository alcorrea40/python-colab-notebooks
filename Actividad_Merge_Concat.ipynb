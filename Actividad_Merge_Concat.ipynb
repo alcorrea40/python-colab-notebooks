{
  "cells": [
    {
      "cell_type": "markdown",
      "metadata": {
        "id": "view-in-github",
        "colab_type": "text"
      },
      "source": [
        "<a href=\"https://colab.research.google.com/github/alcorrea40/python-colab-notebooks/blob/main/Actividad_Merge_Concat.ipynb\" target=\"_parent\"><img src=\"https://colab.research.google.com/assets/colab-badge.svg\" alt=\"Open In Colab\"/></a>"
      ]
    },
    {
      "cell_type": "markdown",
      "id": "8a79d008",
      "metadata": {
        "id": "8a79d008"
      },
      "source": [
        "# Actividad Interactiva #1: Combinando datasets: merge() y concat()\n",
        "Aprenderás a combinar DataFrames usando las funciones `pandas`: `concat()`, `merge()` y `join()`, y explorarás cómo detectar duplicados y valores nulos que surgen al unir datos."
      ]
    },
    {
      "cell_type": "markdown",
      "id": "18fb51b3",
      "metadata": {
        "id": "18fb51b3"
      },
      "source": [
        "## 1. Concatenación con `concat()`"
      ]
    },
    {
      "cell_type": "code",
      "execution_count": 1,
      "id": "3916fae8",
      "metadata": {
        "id": "3916fae8",
        "outputId": "1375234c-a67d-415c-a0fc-6275b2f29a03",
        "colab": {
          "base_uri": "https://localhost:8080/"
        }
      },
      "outputs": [
        {
          "output_type": "stream",
          "name": "stdout",
          "text": [
            "   A  B\n",
            "0  1  3\n",
            "1  2  4\n",
            "0  5  7\n",
            "1  6  8\n",
            "   A  B  A  B\n",
            "0  1  3  5  7\n",
            "1  2  4  6  8\n"
          ]
        }
      ],
      "source": [
        "import pandas as pd\n",
        "\n",
        "df1 = pd.DataFrame({'A': [1, 2], 'B': [3, 4]})\n",
        "df2 = pd.DataFrame({'A': [5, 6], 'B': [7, 8]})\n",
        "\n",
        "# Concatenar por filas (axis=0)\n",
        "print(pd.concat([df1, df2], axis=0))\n",
        "\n",
        "# Concatenar por columnas (axis=1)\n",
        "print(pd.concat([df1, df2], axis=1))"
      ]
    },
    {
      "cell_type": "markdown",
      "id": "8bed742b",
      "metadata": {
        "id": "8bed742b"
      },
      "source": [
        "## 2. Fusión con `merge()`"
      ]
    },
    {
      "cell_type": "code",
      "execution_count": 2,
      "id": "9594a7c4",
      "metadata": {
        "id": "9594a7c4",
        "outputId": "663b341e-f8f6-4f34-af2d-16be4ec226f2",
        "colab": {
          "base_uri": "https://localhost:8080/"
        }
      },
      "outputs": [
        {
          "output_type": "stream",
          "name": "stdout",
          "text": [
            "  key  value  score\n",
            "0   B     20    100\n",
            "1   C     30    200\n"
          ]
        }
      ],
      "source": [
        "left = pd.DataFrame({'key': ['A', 'B', 'C'], 'value': [10, 20, 30]})\n",
        "right = pd.DataFrame({'key': ['B', 'C', 'D'], 'score': [100, 200, 300]})\n",
        "\n",
        "# Merge tipo inner\n",
        "print(pd.merge(left, right, on='key', how='inner'))"
      ]
    },
    {
      "cell_type": "markdown",
      "id": "dfa82999",
      "metadata": {
        "id": "dfa82999"
      },
      "source": [
        "## 3. Tipos de `merge()`"
      ]
    },
    {
      "cell_type": "code",
      "execution_count": 3,
      "id": "6876d5bb",
      "metadata": {
        "id": "6876d5bb",
        "outputId": "43502299-0fdb-478f-c501-e67cde74928b",
        "colab": {
          "base_uri": "https://localhost:8080/"
        }
      },
      "outputs": [
        {
          "output_type": "stream",
          "name": "stdout",
          "text": [
            "  key  value  score\n",
            "0   A     10    NaN\n",
            "1   B     20  100.0\n",
            "2   C     30  200.0\n",
            "  key  value  score\n",
            "0   B   20.0    100\n",
            "1   C   30.0    200\n",
            "2   D    NaN    300\n",
            "  key  value  score\n",
            "0   A   10.0    NaN\n",
            "1   B   20.0  100.0\n",
            "2   C   30.0  200.0\n",
            "3   D    NaN  300.0\n"
          ]
        }
      ],
      "source": [
        "# Left join\n",
        "print(pd.merge(left, right, on='key', how='left'))\n",
        "\n",
        "# Right join\n",
        "print(pd.merge(left, right, on='key', how='right'))\n",
        "\n",
        "# Outer join\n",
        "print(pd.merge(left, right, on='key', how='outer'))"
      ]
    },
    {
      "cell_type": "markdown",
      "id": "4c2aaf35",
      "metadata": {
        "id": "4c2aaf35"
      },
      "source": [
        "## 4. `join()` con índices"
      ]
    },
    {
      "cell_type": "code",
      "execution_count": 4,
      "id": "3431a1c5",
      "metadata": {
        "id": "3431a1c5",
        "outputId": "f83c29b9-2bbf-482d-bc4a-955420f3d7b3",
        "colab": {
          "base_uri": "https://localhost:8080/"
        }
      },
      "outputs": [
        {
          "output_type": "stream",
          "name": "stdout",
          "text": [
            "   A  B\n",
            "x  1  4\n",
            "y  2  5\n",
            "z  3  6\n"
          ]
        }
      ],
      "source": [
        "df1 = pd.DataFrame({'A': [1, 2, 3]}, index=['x', 'y', 'z'])\n",
        "df2 = pd.DataFrame({'B': [4, 5, 6]}, index=['x', 'y', 'z'])\n",
        "\n",
        "print(df1.join(df2))"
      ]
    },
    {
      "cell_type": "markdown",
      "id": "ec28772c",
      "metadata": {
        "id": "ec28772c"
      },
      "source": [
        "## 5. Detección de duplicados y valores nulos"
      ]
    },
    {
      "cell_type": "code",
      "execution_count": 5,
      "id": "ee6aaf5c",
      "metadata": {
        "id": "ee6aaf5c",
        "outputId": "f936e7bb-2f2a-455e-ee8c-9fce1667671d",
        "colab": {
          "base_uri": "https://localhost:8080/"
        }
      },
      "outputs": [
        {
          "output_type": "stream",
          "name": "stdout",
          "text": [
            "Duplicados:\n",
            "0    False\n",
            "1    False\n",
            "2    False\n",
            "3    False\n",
            "dtype: bool\n",
            "Valores nulos:\n",
            "key      0\n",
            "value    1\n",
            "score    1\n",
            "dtype: int64\n"
          ]
        }
      ],
      "source": [
        "merged = pd.merge(left, right, on='key', how='outer')\n",
        "print(\"Duplicados:\")\n",
        "print(merged.duplicated())\n",
        "\n",
        "print(\"Valores nulos:\")\n",
        "print(merged.isnull().sum())"
      ]
    },
    {
      "cell_type": "markdown",
      "id": "0828178d",
      "metadata": {
        "id": "0828178d"
      },
      "source": [
        "## Conclusión\n",
        "Con estas herramientas puedes integrar múltiples fuentes de datos en un solo DataFrame, preparando el terreno para análisis más complejos. ¡Explora y experimenta con tus propios ejemplos!"
      ]
    }
  ],
  "metadata": {
    "colab": {
      "provenance": [],
      "include_colab_link": true
    },
    "language_info": {
      "name": "python"
    },
    "kernelspec": {
      "name": "python3",
      "display_name": "Python 3"
    }
  },
  "nbformat": 4,
  "nbformat_minor": 5
}