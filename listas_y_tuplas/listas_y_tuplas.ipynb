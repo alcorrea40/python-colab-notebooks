{
  "cells": [
    {
      "cell_type": "markdown",
      "metadata": {
        "id": "view-in-github",
        "colab_type": "text"
      },
      "source": [
        "<a href=\"https://colab.research.google.com/github/alcorrea40/python-colab-notebooks/blob/main/listas_y_tuplas.ipynb\" target=\"_parent\"><img src=\"https://colab.research.google.com/assets/colab-badge.svg\" alt=\"Open In Colab\"/></a>"
      ]
    },
    {
      "cell_type": "markdown",
      "metadata": {
        "id": "cq9FcVqt5g5b"
      },
      "source": [
        "# Actividad interactiva #1: Trabajando con listas y tuplas\n",
        "Explora cómo se crean listas y tuplas, cómo se accede a sus elementos y cómo aplicar métodos comunes."
      ],
      "id": "cq9FcVqt5g5b"
    },
    {
      "cell_type": "code",
      "execution_count": 1,
      "metadata": {
        "colab": {
          "base_uri": "https://localhost:8080/"
        },
        "id": "sMc1DR5b5g5e",
        "outputId": "7a8d7ab8-97a8-4dc6-e5f6-c42c74ed1244"
      },
      "outputs": [
        {
          "output_type": "stream",
          "name": "stdout",
          "text": [
            "['manzana', 'banana', 'cereza']\n"
          ]
        }
      ],
      "source": [
        "# Crear una lista\n",
        "frutas = ['manzana', 'banana', 'cereza']\n",
        "print(frutas)"
      ],
      "id": "sMc1DR5b5g5e"
    },
    {
      "cell_type": "code",
      "execution_count": 2,
      "metadata": {
        "colab": {
          "base_uri": "https://localhost:8080/"
        },
        "id": "0vpLIm8A5g5f",
        "outputId": "6950cbf0-8181-4708-b6bb-35f15f882add"
      },
      "outputs": [
        {
          "output_type": "stream",
          "name": "stdout",
          "text": [
            "manzana\n",
            "cereza\n"
          ]
        }
      ],
      "source": [
        "# Acceder a elementos de la lista\n",
        "print(frutas[0])  # Primer elemento\n",
        "print(frutas[-1]) # Último elemento"
      ],
      "id": "0vpLIm8A5g5f"
    },
    {
      "cell_type": "code",
      "execution_count": 3,
      "metadata": {
        "colab": {
          "base_uri": "https://localhost:8080/"
        },
        "id": "wG_x0dDU5g5g",
        "outputId": "ef58ce32-0b89-466b-bcdd-aafe5d43ce83"
      },
      "outputs": [
        {
          "output_type": "stream",
          "name": "stdout",
          "text": [
            "['manzana', 'banana', 'cereza', 'naranja']\n",
            "['manzana', 'kiwi', 'banana', 'cereza', 'naranja']\n"
          ]
        }
      ],
      "source": [
        "# Agregar elementos a la lista\n",
        "frutas.append('naranja')\n",
        "print(frutas)\n",
        "\n",
        "# Insertar en una posición específica\n",
        "frutas.insert(1, 'kiwi')\n",
        "print(frutas)"
      ],
      "id": "wG_x0dDU5g5g"
    },
    {
      "cell_type": "code",
      "execution_count": 4,
      "metadata": {
        "colab": {
          "base_uri": "https://localhost:8080/"
        },
        "id": "6bEfoVFx5g5g",
        "outputId": "4eac6b94-cc10-497f-b0ee-aee7d48054cc"
      },
      "outputs": [
        {
          "output_type": "stream",
          "name": "stdout",
          "text": [
            "['banana', 'cereza', 'kiwi', 'manzana', 'naranja']\n",
            "1\n"
          ]
        }
      ],
      "source": [
        "# Ordenar y contar elementos\n",
        "frutas.sort()\n",
        "print(frutas)\n",
        "print(frutas.count('banana'))"
      ],
      "id": "6bEfoVFx5g5g"
    },
    {
      "cell_type": "markdown",
      "metadata": {
        "id": "0aALZa5h5g5g"
      },
      "source": [
        "## Tuplas\n",
        "Las tuplas son como listas, pero no se pueden modificar (inmutables)."
      ],
      "id": "0aALZa5h5g5g"
    },
    {
      "cell_type": "code",
      "execution_count": 5,
      "metadata": {
        "colab": {
          "base_uri": "https://localhost:8080/"
        },
        "id": "EZmZJ_f95g5h",
        "outputId": "32fb9e12-88d2-4106-e501-fb61195eb29f"
      },
      "outputs": [
        {
          "output_type": "stream",
          "name": "stdout",
          "text": [
            "(10.0, 20.0)\n",
            "10.0\n"
          ]
        }
      ],
      "source": [
        "# Crear una tupla\n",
        "coordenadas = (10.0, 20.0)\n",
        "print(coordenadas)\n",
        "\n",
        "# Acceder a elementos\n",
        "print(coordenadas[0])"
      ],
      "id": "EZmZJ_f95g5h"
    }
  ],
  "metadata": {
    "kernelspec": {
      "display_name": "Python 3",
      "language": "python",
      "name": "python3"
    },
    "language_info": {
      "name": "python",
      "version": "3.10"
    },
    "colab": {
      "provenance": [],
      "include_colab_link": true
    }
  },
  "nbformat": 4,
  "nbformat_minor": 5
}
