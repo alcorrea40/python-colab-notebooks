{
  "cells": [
    {
      "cell_type": "markdown",
      "metadata": {
        "id": "view-in-github",
        "colab_type": "text"
      },
      "source": [
        "<a href=\"https://colab.research.google.com/github/alcorrea40/python-colab-notebooks/blob/main/condiciones_compuestas_y_anidadas.ipynb\" target=\"_parent\"><img src=\"https://colab.research.google.com/assets/colab-badge.svg\" alt=\"Open In Colab\"/></a>"
      ]
    },
    {
      "cell_type": "markdown",
      "metadata": {
        "id": "EyxHmZEWksnR"
      },
      "source": [
        "# 🧠 Actividad Interactiva #2: Condiciones múltiples y anidadas\n",
        "\n",
        "Este notebook te permitirá practicar condiciones compuestas utilizando operadores lógicos (`and`, `or`, `not`) y estructuras condicionales anidadas en Python.\n",
        "Vamos a construir decisiones más complejas como las que se presentan en la vida real."
      ]
    },
    {
      "cell_type": "markdown",
      "metadata": {
        "id": "KhxrKZekksnT"
      },
      "source": [
        "## 🔍 Ejemplo con condiciones múltiples\n",
        "```python\n",
        "edad = 25\n",
        "tiene_licencia = True\n",
        "if edad >= 18 and tiene_licencia:\n",
        "    print(\"Puedes conducir.\")\n",
        "else:\n",
        "    print(\"No puedes conducir.\")\n",
        "```"
      ]
    },
    {
      "cell_type": "markdown",
      "metadata": {
        "id": "-61QCCS_ksnT"
      },
      "source": [
        "## 🔁 Ejemplo con condiciones anidadas\n",
        "```python\n",
        "nota = 85\n",
        "if nota >= 60:\n",
        "    if nota >= 90:\n",
        "        print(\"Excelente\")\n",
        "    else:\n",
        "        print(\"Aprobado\")\n",
        "else:\n",
        "    print(\"Reprobado\")\n",
        "```"
      ]
    },
    {
      "cell_type": "code",
      "execution_count": 1,
      "metadata": {
        "id": "1m8JD3szksnU"
      },
      "outputs": [],
      "source": [
        "# 📝 Ejercicio 1\n",
        "# Evalúa si una persona puede ingresar a una sala VIP si es mayor de 21 años o si es mayor de 18 y tiene membresía.\n",
        "edad = 20\n",
        "tiene_membresia = True\n",
        "# Tu código aquí:"
      ]
    },
    {
      "cell_type": "code",
      "execution_count": 2,
      "metadata": {
        "id": "OxJCDuk3ksnU"
      },
      "outputs": [],
      "source": [
        "# 📝 Ejercicio 2\n",
        "# Pide al usuario su edad y calificación y determina:\n",
        "# - Si tiene 18 o más y su calificación es mayor a 80 → 'Apto para beca'\n",
        "# - Si tiene menos de 18 pero calificación mayor a 90 → 'Apto con excepción'\n",
        "# - De lo contrario → 'No apto'\n",
        "# Tu código aquí:"
      ]
    },
    {
      "cell_type": "markdown",
      "metadata": {
        "id": "42X9vGfZksnV"
      },
      "source": [
        "## 🎯 Desafío Final\n",
        "Implementa un sistema de evaluación que determine si un producto tiene:\n",
        "- **Alta prioridad** si su precio es mayor a 100 y su stock es menor a 20\n",
        "- **Prioridad media** si su precio está entre 50 y 100 o el stock es menor a 10\n",
        "- **Sin prioridad** en cualquier otro caso"
      ]
    },
    {
      "cell_type": "code",
      "execution_count": 3,
      "metadata": {
        "id": "FFZgUa5rksnV"
      },
      "outputs": [],
      "source": [
        "# 💼 Desafío\n",
        "precio = 120\n",
        "stock = 15\n",
        "# Tu código aquí:"
      ]
    }
  ],
  "metadata": {
    "kernelspec": {
      "display_name": "Python 3",
      "language": "python",
      "name": "python3"
    },
    "language_info": {
      "name": "python",
      "version": ""
    },
    "colab": {
      "provenance": [],
      "include_colab_link": true
    }
  },
  "nbformat": 4,
  "nbformat_minor": 0
}
