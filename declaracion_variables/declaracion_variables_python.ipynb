{
  "cells": [
    {
      "cell_type": "markdown",
      "metadata": {
        "id": "view-in-github",
        "colab_type": "text"
      },
      "source": [
        "<a href=\"https://colab.research.google.com/github/alcorrea40/python-colab-notebooks/blob/main/declaracion_variables_python.ipynb\" target=\"_parent\"><img src=\"https://colab.research.google.com/assets/colab-badge.svg\" alt=\"Open In Colab\"/></a>"
      ]
    },
    {
      "cell_type": "markdown",
      "metadata": {
        "id": "K4Zce-Xp4qhG"
      },
      "source": [
        "# 🧮 Actividad: Declaración de Variables en Python\n",
        "Este cuaderno te ayudará a practicar cómo declarar variables numéricas y de texto, asignarles valores y mostrarlos por pantalla utilizando `print()`."
      ]
    },
    {
      "cell_type": "code",
      "execution_count": 3,
      "metadata": {
        "colab": {
          "base_uri": "https://localhost:8080/"
        },
        "id": "xoKubZZU4qhH",
        "outputId": "68da3ef1-19ca-4ecb-df30-b187bf1dacd4"
      },
      "outputs": [
        {
          "output_type": "stream",
          "name": "stdout",
          "text": [
            "Edad: 25\n",
            "Altura: 1.75\n",
            "Nombre: Laura\n"
          ]
        }
      ],
      "source": [
        "# Variable numérica entera (int)\n",
        "edad = 25\n",
        "print(\"Edad:\", edad)\n",
        "\n",
        "# Variable de número decimal (float)\n",
        "altura = 1.75\n",
        "print(\"Altura:\", altura)\n",
        "\n",
        "# Variable de texto (str)\n",
        "nombre = \"Laura\"\n",
        "print(\"Nombre:\", nombre)"
      ]
    },
    {
      "cell_type": "markdown",
      "metadata": {
        "id": "CwQssqLF4qhI"
      },
      "source": [
        "## ✍️ Tu turno: Declara tus propias variables\n",
        "Escribe variables que representen tu nombre, tu edad y tu ciudad, y luego imprímelas."
      ]
    },
    {
      "cell_type": "code",
      "execution_count": 4,
      "metadata": {
        "colab": {
          "base_uri": "https://localhost:8080/"
        },
        "id": "i9gGXT_e4qhJ",
        "outputId": "6ed7d0fb-cd3b-4b6c-f5b6-5be36f240669"
      },
      "outputs": [
        {
          "output_type": "stream",
          "name": "stdout",
          "text": [
            "Nombre: \n",
            "Edad: \n",
            "Ciudad: \n"
          ]
        }
      ],
      "source": [
        "# Escribe aquí tus variables:\n",
        "mi_nombre = \"\"\n",
        "mi_edad =  \"\"\n",
        "mi_ciudad = \"\"\n",
        "\n",
        "# Imprime las variables\n",
        "print(\"Nombre:\", mi_nombre)\n",
        "print(\"Edad:\", mi_edad)\n",
        "print(\"Ciudad:\", mi_ciudad)"
      ]
    },
    {
      "cell_type": "markdown",
      "metadata": {
        "id": "qIhlGU7B4qhJ"
      },
      "source": [
        "## 🧠 Reflexión: ¿Qué aprendiste?\n",
        "Responde: ¿Qué diferencias observas entre las variables tipo `int`, `float` y `str`?"
      ]
    }
  ],
  "metadata": {
    "kernelspec": {
      "display_name": "Python 3",
      "language": "python",
      "name": "python3"
    },
    "language_info": {
      "name": "python",
      "version": ""
    },
    "colab": {
      "provenance": [],
      "include_colab_link": true
    }
  },
  "nbformat": 4,
  "nbformat_minor": 0
}
