{
  "cells": [
    {
      "cell_type": "markdown",
      "metadata": {
        "id": "view-in-github",
        "colab_type": "text"
      },
      "source": [
        "<a href=\"https://colab.research.google.com/github/alcorrea40/python-colab-notebooks/blob/main/Actividad_Condiciones_Multiples_Anidadas.ipynb\" target=\"_parent\"><img src=\"https://colab.research.google.com/assets/colab-badge.svg\" alt=\"Open In Colab\"/></a>"
      ]
    },
    {
      "cell_type": "markdown",
      "id": "17bbdd42",
      "metadata": {
        "id": "17bbdd42"
      },
      "source": [
        "# Actividad: Condiciones Múltiples y Anidadas"
      ]
    },
    {
      "cell_type": "markdown",
      "id": "6bcbabb1",
      "metadata": {
        "id": "6bcbabb1"
      },
      "source": [
        "## 1. Condición compuesta"
      ]
    },
    {
      "cell_type": "code",
      "execution_count": null,
      "id": "efeefa38",
      "metadata": {
        "id": "efeefa38"
      },
      "outputs": [],
      "source": [
        "nota = 85\n",
        "asistencia = 95\n",
        "if nota >= 70 and asistencia >= 80:\n",
        "    print('Aprobado')\n",
        "else:\n",
        "    print('No aprobado')"
      ]
    },
    {
      "cell_type": "markdown",
      "id": "767ab904",
      "metadata": {
        "id": "767ab904"
      },
      "source": [
        "## 2. Condición anidada"
      ]
    },
    {
      "cell_type": "code",
      "execution_count": null,
      "id": "3ab589b3",
      "metadata": {
        "id": "3ab589b3"
      },
      "outputs": [],
      "source": [
        "usuario = input('Ingrese usuario: ')\n",
        "clave = input('Ingrese clave: ')\n",
        "if usuario == 'admin':\n",
        "    if clave == '1234':\n",
        "        print('Acceso concedido')\n",
        "    else:\n",
        "        print('Clave incorrecta')\n",
        "else:\n",
        "    print('Usuario no reconocido')"
      ]
    },
    {
      "cell_type": "markdown",
      "id": "a9f04c7e",
      "metadata": {
        "id": "a9f04c7e"
      },
      "source": [
        "## Reto 💡\n",
        "Crea un programa que simule un cajero automático con verificación de usuario, contraseña y monto disponible."
      ]
    }
  ],
  "metadata": {
    "colab": {
      "provenance": [],
      "include_colab_link": true
    }
  },
  "nbformat": 4,
  "nbformat_minor": 5
}