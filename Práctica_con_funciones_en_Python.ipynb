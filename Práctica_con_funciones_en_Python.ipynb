{
  "nbformat": 4,
  "nbformat_minor": 0,
  "metadata": {
    "colab": {
      "provenance": [],
      "authorship_tag": "ABX9TyMySfEqkR4GliSq+qGSByU9",
      "include_colab_link": true
    },
    "kernelspec": {
      "name": "python3",
      "display_name": "Python 3"
    },
    "language_info": {
      "name": "python"
    }
  },
  "cells": [
    {
      "cell_type": "markdown",
      "metadata": {
        "id": "view-in-github",
        "colab_type": "text"
      },
      "source": [
        "<a href=\"https://colab.research.google.com/github/alcorrea40/python-colab-notebooks/blob/main/Pr%C3%A1ctica_con_funciones_en_Python.ipynb\" target=\"_parent\"><img src=\"https://colab.research.google.com/assets/colab-badge.svg\" alt=\"Open In Colab\"/></a>"
      ]
    },
    {
      "cell_type": "code",
      "execution_count": 1,
      "metadata": {
        "colab": {
          "base_uri": "https://localhost:8080/"
        },
        "id": "Cxwmr4nRPipY",
        "outputId": "1f4ae812-5bce-48b2-cfe6-d79d842a8075"
      },
      "outputs": [
        {
          "output_type": "stream",
          "name": "stdout",
          "text": [
            "Hola, bienvenido al mundo de las funciones.\n",
            "Resultado: 20\n",
            "True\n",
            "False\n"
          ]
        }
      ],
      "source": [
        "# Ejemplo 1: función sin parámetros\n",
        "def mensaje():\n",
        "    print(\"Hola, bienvenido al mundo de las funciones.\")\n",
        "\n",
        "mensaje()\n",
        "\n",
        "# Ejemplo 2: función con parámetros\n",
        "def multiplicar(x, y):\n",
        "    print(\"Resultado:\", x * y)\n",
        "\n",
        "multiplicar(4, 5)\n",
        "\n",
        "# Ejemplo 3: función que retorna valor\n",
        "def es_par(numero):\n",
        "    return numero % 2 == 0\n",
        "\n",
        "print(es_par(4))  # True\n",
        "print(es_par(7))  # False\n",
        "\n",
        "# Ejercicio 1:\n",
        "# Crea una función que imprima tu nombre\n",
        "\n",
        "# Ejercicio 2:\n",
        "# Escribe una función que reciba dos números y retorne su división\n",
        "\n",
        "# Ejercicio 3:\n",
        "# Escribe una función que reciba un número y retorne su factorial\n"
      ]
    }
  ]
}