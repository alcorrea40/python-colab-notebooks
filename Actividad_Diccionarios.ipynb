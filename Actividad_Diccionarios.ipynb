{
  "cells": [
    {
      "cell_type": "markdown",
      "metadata": {
        "id": "view-in-github",
        "colab_type": "text"
      },
      "source": [
        "<a href=\"https://colab.research.google.com/github/alcorrea40/python-colab-notebooks/blob/main/Actividad_Diccionarios.ipynb\" target=\"_parent\"><img src=\"https://colab.research.google.com/assets/colab-badge.svg\" alt=\"Open In Colab\"/></a>"
      ]
    },
    {
      "cell_type": "markdown",
      "id": "3ff21aae",
      "metadata": {
        "id": "3ff21aae"
      },
      "source": [
        "# Actividad: Diccionarios y acceso a información estructurada"
      ]
    },
    {
      "cell_type": "markdown",
      "id": "92a4d274",
      "metadata": {
        "id": "92a4d274"
      },
      "source": [
        "## 1. Crear y acceder a diccionarios"
      ]
    },
    {
      "cell_type": "code",
      "execution_count": null,
      "id": "d53176fb",
      "metadata": {
        "id": "d53176fb"
      },
      "outputs": [],
      "source": [
        "estudiante = {\n",
        "    'nombre': 'Ana',\n",
        "    'edad': 21,\n",
        "    'carrera': 'Ingeniería'\n",
        "}\n",
        "print(estudiante['nombre'])\n",
        "print(estudiante.get('carrera'))"
      ]
    },
    {
      "cell_type": "markdown",
      "id": "523fa5e6",
      "metadata": {
        "id": "523fa5e6"
      },
      "source": [
        "## 2. Modificar y eliminar elementos"
      ]
    },
    {
      "cell_type": "code",
      "execution_count": null,
      "id": "28ee2d1d",
      "metadata": {
        "id": "28ee2d1d"
      },
      "outputs": [],
      "source": [
        "estudiante['edad'] = 22\n",
        "estudiante['correo'] = 'ana@email.com'\n",
        "del estudiante['carrera']\n",
        "print(estudiante)"
      ]
    },
    {
      "cell_type": "markdown",
      "id": "c5acc4d4",
      "metadata": {
        "id": "c5acc4d4"
      },
      "source": [
        "## 3. Recorrer claves y valores"
      ]
    },
    {
      "cell_type": "code",
      "execution_count": null,
      "id": "b85e89b2",
      "metadata": {
        "id": "b85e89b2"
      },
      "outputs": [],
      "source": [
        "for clave, valor in estudiante.items():\n",
        "    print(clave, ':', valor)"
      ]
    },
    {
      "cell_type": "markdown",
      "id": "95c867a0",
      "metadata": {
        "id": "95c867a0"
      },
      "source": [
        "## Reto 💡\n",
        "Crea un diccionario que represente un producto de supermercado con nombre, precio, categoría y stock. Actualiza el precio y elimina el stock."
      ]
    }
  ],
  "metadata": {
    "colab": {
      "provenance": [],
      "include_colab_link": true
    }
  },
  "nbformat": 4,
  "nbformat_minor": 5
}