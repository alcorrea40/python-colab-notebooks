{
  "cells": [
    {
      "cell_type": "markdown",
      "metadata": {
        "id": "view-in-github",
        "colab_type": "text"
      },
      "source": [
        "<a href=\"https://colab.research.google.com/github/alcorrea40/python-colab-notebooks/blob/main/Actividad_Pandas_Exploracion.ipynb\" target=\"_parent\"><img src=\"https://colab.research.google.com/assets/colab-badge.svg\" alt=\"Open In Colab\"/></a>"
      ]
    },
    {
      "cell_type": "markdown",
      "id": "f3453cfa",
      "metadata": {
        "id": "f3453cfa"
      },
      "source": [
        "# Actividad: Cargar y explorar datos con pandas"
      ]
    },
    {
      "cell_type": "markdown",
      "id": "3da53026",
      "metadata": {
        "id": "3da53026"
      },
      "source": [
        "## 1. Importar pandas y leer un archivo CSV"
      ]
    },
    {
      "cell_type": "code",
      "execution_count": null,
      "id": "1a2a65a5",
      "metadata": {
        "id": "1a2a65a5"
      },
      "outputs": [],
      "source": [
        "import pandas as pd\n",
        "\n",
        "data = pd.read_csv('https://people.sc.fsu.edu/~jburkardt/data/csv/airtravel.csv')\n",
        "data.head()"
      ]
    },
    {
      "cell_type": "markdown",
      "id": "81d33f3f",
      "metadata": {
        "id": "81d33f3f"
      },
      "source": [
        "## 2. Verificar estructura y estadísticas"
      ]
    },
    {
      "cell_type": "code",
      "execution_count": null,
      "id": "89b66d5e",
      "metadata": {
        "id": "89b66d5e"
      },
      "outputs": [],
      "source": [
        "data.info()\n",
        "data.describe()"
      ]
    },
    {
      "cell_type": "markdown",
      "id": "00750c3c",
      "metadata": {
        "id": "00750c3c"
      },
      "source": [
        "## 3. Identificar tipos de variables y valores nulos"
      ]
    },
    {
      "cell_type": "code",
      "execution_count": null,
      "id": "a56745b0",
      "metadata": {
        "id": "a56745b0"
      },
      "outputs": [],
      "source": [
        "print('Tipos de datos:')\n",
        "print(data.dtypes)\n",
        "print('\\nValores nulos:')\n",
        "print(data.isnull().sum())"
      ]
    },
    {
      "cell_type": "markdown",
      "id": "d04bcd51",
      "metadata": {
        "id": "d04bcd51"
      },
      "source": [
        "## Reto 💡\n",
        "Carga un dataset propio o desde una URL. Usa `head()`, `info()` y `describe()` para entender su contenido."
      ]
    }
  ],
  "metadata": {
    "colab": {
      "provenance": [],
      "include_colab_link": true
    }
  },
  "nbformat": 4,
  "nbformat_minor": 5
}