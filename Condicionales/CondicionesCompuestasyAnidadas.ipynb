{
  "nbformat": 4,
  "nbformat_minor": 0,
  "metadata": {
    "colab": {
      "provenance": [],
      "authorship_tag": "ABX9TyOyswgX41/QK+/VRlK1M5VJ",
      "include_colab_link": true
    },
    "kernelspec": {
      "name": "python3",
      "display_name": "Python 3"
    },
    "language_info": {
      "name": "python"
    }
  },
  "cells": [
    {
      "cell_type": "markdown",
      "metadata": {
        "id": "view-in-github",
        "colab_type": "text"
      },
      "source": [
        "<a href=\"https://colab.research.google.com/github/alcorrea40/python-colab-notebooks/blob/main/CondicionesCompuestasyAnidadas.ipynb\" target=\"_parent\"><img src=\"https://colab.research.google.com/assets/colab-badge.svg\" alt=\"Open In Colab\"/></a>"
      ]
    },
    {
      "cell_type": "code",
      "execution_count": 1,
      "metadata": {
        "colab": {
          "base_uri": "https://localhost:8080/"
        },
        "id": "LI1N1ujdtARm",
        "outputId": "83ea894d-cbab-4bd3-9a24-d29b141c456f"
      },
      "outputs": [
        {
          "output_type": "stream",
          "name": "stdout",
          "text": [
            "Puede conducir\n",
            "Ingresa tu nota: 85\n",
            "Aprobado\n"
          ]
        }
      ],
      "source": [
        "# Condiciones compuestas\n",
        "edad = 22\n",
        "tiene_licencia = True\n",
        "\n",
        "if edad >= 18 and tiene_licencia:\n",
        "    print(\"Puede conducir\")\n",
        "else:\n",
        "    print(\"No puede conducir\")\n",
        "\n",
        "# Condiciones anidadas\n",
        "nota = int(input(\"Ingresa tu nota: \"))\n",
        "\n",
        "if nota >= 60:\n",
        "    if nota >= 90:\n",
        "        print(\"Excelente\")\n",
        "    else:\n",
        "        print(\"Aprobado\")\n",
        "else:\n",
        "    print(\"Reprobado\")\n",
        "\n",
        "# Ejercicio 1: Modifica este código para incluir la categoría \"Muy bien\" si la nota está entre 80 y 89\n",
        "\n",
        "# Ejercicio 2: Escribe un programa que:\n",
        "# - Pida edad y si tiene pasaporte.\n",
        "# - Si tiene más de 18 y tiene pasaporte, diga \"Puede viajar\".\n",
        "# - Si no tiene pasaporte, diga \"Debe tramitar pasaporte\".\n",
        "# - Si es menor de edad, diga \"Debe ser mayor de edad para viajar solo\".\n"
      ]
    }
  ]
}