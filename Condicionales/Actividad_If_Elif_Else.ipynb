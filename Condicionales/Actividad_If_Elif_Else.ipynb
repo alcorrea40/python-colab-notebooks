{
  "cells": [
    {
      "cell_type": "markdown",
      "metadata": {
        "id": "view-in-github",
        "colab_type": "text"
      },
      "source": [
        "<a href=\"https://colab.research.google.com/github/alcorrea40/python-colab-notebooks/blob/main/Actividad_If_Elif_Else.ipynb\" target=\"_parent\"><img src=\"https://colab.research.google.com/assets/colab-badge.svg\" alt=\"Open In Colab\"/></a>"
      ]
    },
    {
      "cell_type": "markdown",
      "id": "76865e24",
      "metadata": {
        "id": "76865e24"
      },
      "source": [
        "# Actividad: Sentencias if, elif y else"
      ]
    },
    {
      "cell_type": "markdown",
      "id": "0cc249a8",
      "metadata": {
        "id": "0cc249a8"
      },
      "source": [
        "## 1. Condición simple"
      ]
    },
    {
      "cell_type": "code",
      "execution_count": null,
      "id": "e4924a9f",
      "metadata": {
        "id": "e4924a9f"
      },
      "outputs": [],
      "source": [
        "edad = 20\n",
        "if edad >= 18:\n",
        "    print('Eres mayor de edad')"
      ]
    },
    {
      "cell_type": "markdown",
      "id": "1cbba888",
      "metadata": {
        "id": "1cbba888"
      },
      "source": [
        "## 2. Condición con elif y else"
      ]
    },
    {
      "cell_type": "code",
      "execution_count": null,
      "id": "131a4f4a",
      "metadata": {
        "id": "131a4f4a"
      },
      "outputs": [],
      "source": [
        "nota = 75\n",
        "if nota >= 90:\n",
        "    print('Excelente')\n",
        "elif nota >= 70:\n",
        "    print('Aprobado')\n",
        "else:\n",
        "    print('Reprobado')"
      ]
    },
    {
      "cell_type": "markdown",
      "id": "b4c543ef",
      "metadata": {
        "id": "b4c543ef"
      },
      "source": [
        "## 3. Entrada de datos"
      ]
    },
    {
      "cell_type": "code",
      "execution_count": null,
      "id": "2ba9bdae",
      "metadata": {
        "id": "2ba9bdae"
      },
      "outputs": [],
      "source": [
        "nombre = input('¿Cuál es tu nombre? ')\n",
        "edad = int(input('¿Cuántos años tienes? '))\n",
        "if edad >= 18:\n",
        "    print(nombre, 'puede votar')\n",
        "else:\n",
        "    print(nombre, 'no puede votar')"
      ]
    },
    {
      "cell_type": "markdown",
      "id": "2d35afe3",
      "metadata": {
        "id": "2d35afe3"
      },
      "source": [
        "## Reto 💡\n",
        "Crea un programa que reciba una calificación y muestre si es excelente (>=90), buena (>=75), regular (>=60) o insuficiente (<60)."
      ]
    }
  ],
  "metadata": {
    "colab": {
      "provenance": [],
      "include_colab_link": true
    }
  },
  "nbformat": 4,
  "nbformat_minor": 5
}