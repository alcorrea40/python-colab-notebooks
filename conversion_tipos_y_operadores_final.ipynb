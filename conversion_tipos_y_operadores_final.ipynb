{
  "cells": [
    {
      "cell_type": "markdown",
      "metadata": {
        "id": "view-in-github",
        "colab_type": "text"
      },
      "source": [
        "<a href=\"https://colab.research.google.com/github/alcorrea40/python-colab-notebooks/blob/main/conversion_tipos_y_operadores_final.ipynb\" target=\"_parent\"><img src=\"https://colab.research.google.com/assets/colab-badge.svg\" alt=\"Open In Colab\"/></a>"
      ]
    },
    {
      "cell_type": "markdown",
      "metadata": {
        "id": "t89oRtXpLify"
      },
      "source": [
        "# 🔄 Actividad Interactiva #2: Conversión de tipos y operadores\n",
        "Este cuaderno te permitirá practicar la conversión entre tipos de datos en Python (`int`, `float`, `str`) y el uso de operadores aritméticos y de concatenación."
      ]
    },
    {
      "cell_type": "markdown",
      "metadata": {
        "id": "_wsM-HPSLif1"
      },
      "source": [
        "## 🔁 Conversión de tipos\n",
        "Convierte valores entre tipos de datos usando `int()`, `float()`, `str()`.\n",
        "```python\n",
        "texto = \"42\"\n",
        "numero = int(texto)\n",
        "print(numero, type(numero))\n",
        "```\n",
        "```python\n",
        "decimal = 3.1415\n",
        "texto_decimal = str(decimal)\n",
        "print(texto_decimal, type(texto_decimal))\n",
        "```"
      ]
    },
    {
      "cell_type": "code",
      "execution_count": 10,
      "metadata": {
        "id": "2UsGfhJlLif2"
      },
      "outputs": [],
      "source": [
        "# Practica aquí la conversión entre tipos de datos\n",
        "# Por ejemplo: de str a int, de int a float, etc."
      ]
    },
    {
      "cell_type": "markdown",
      "metadata": {
        "id": "XBBR1bgHLif3"
      },
      "source": [
        "## ➕ Operadores aritméticos\n",
        "- `+`: suma\n",
        "- `-`: resta\n",
        "- `*`: multiplicación\n",
        "- `/`: división\n",
        "- `//`: división entera\n",
        "- `%`: módulo\n",
        "- `**`: potencia\n",
        "```python\n",
        "a = 10\n",
        "b = 3\n",
        "print(\"Suma:\", a + b)\n",
        "print(\"Potencia:\", a ** b)\n",
        "```"
      ]
    },
    {
      "cell_type": "code",
      "execution_count": 11,
      "metadata": {
        "id": "Xev4vfOYLif3"
      },
      "outputs": [],
      "source": [
        "# Practica aquí con operadores aritméticos\n",
        "# Intenta usar al menos 3 operadores distintos"
      ]
    },
    {
      "cell_type": "markdown",
      "metadata": {
        "id": "WtIuOMsJLif3"
      },
      "source": [
        "## 🔤 Operadores de concatenación (texto)\n",
        "Puedes usar `+` para concatenar cadenas de texto o `f-strings` para mezclar texto con variables.\n",
        "```python\n",
        "nombre = \"Carlos\"\n",
        "edad = 28\n",
        "print(\"Hola, \" + nombre + \". Tienes \" + str(edad) + \" años.\")\n",
        "print(f\"Hola, {nombre}. Tienes {edad} años.\")\n",
        "```"
      ]
    },
    {
      "cell_type": "code",
      "execution_count": 12,
      "metadata": {
        "id": "frn597JvLif4"
      },
      "outputs": [],
      "source": [
        "# Intenta crear tus propios mensajes concatenando cadenas de texto y variables numéricas"
      ]
    }
  ],
  "metadata": {
    "kernelspec": {
      "display_name": "Python 3",
      "language": "python",
      "name": "python3"
    },
    "language_info": {
      "name": "python",
      "version": ""
    },
    "colab": {
      "provenance": [],
      "include_colab_link": true
    }
  },
  "nbformat": 4,
  "nbformat_minor": 0
}