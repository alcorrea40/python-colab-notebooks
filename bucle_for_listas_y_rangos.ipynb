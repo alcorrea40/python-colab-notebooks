{
  "cells": [
    {
      "cell_type": "markdown",
      "metadata": {
        "id": "view-in-github",
        "colab_type": "text"
      },
      "source": [
        "<a href=\"https://colab.research.google.com/github/alcorrea40/python-colab-notebooks/blob/main/bucle_for_listas_y_rangos.ipynb\" target=\"_parent\"><img src=\"https://colab.research.google.com/assets/colab-badge.svg\" alt=\"Open In Colab\"/></a>"
      ]
    },
    {
      "cell_type": "markdown",
      "metadata": {
        "id": "JaIspOeQpLU5"
      },
      "source": [
        "# 🔁 Actividad Interactiva #1: Bucle `for` aplicado a listas y rangos\n",
        "\n",
        "En este notebook aprenderás a usar el bucle `for` para recorrer secuencias como listas, cadenas y rangos numéricos."
      ]
    },
    {
      "cell_type": "markdown",
      "metadata": {
        "id": "xbIgCPKSpLU_"
      },
      "source": [
        "## ✅ Iterar sobre una lista\n",
        "```python\n",
        "frutas = ['manzana', 'banana', 'cereza']\n",
        "for fruta in frutas:\n",
        "    print(fruta)\n",
        "```"
      ]
    },
    {
      "cell_type": "markdown",
      "metadata": {
        "id": "IDsr-7eGpLVA"
      },
      "source": [
        "## 🔢 Iterar con `range()`\n",
        "```python\n",
        "for i in range(5):\n",
        "    print(i)\n",
        "```"
      ]
    },
    {
      "cell_type": "markdown",
      "metadata": {
        "id": "q8mOzXecpLVA"
      },
      "source": [
        "## 🧠 Usar `len()` para recorrer una lista por índices\n",
        "```python\n",
        "numeros = [10, 20, 30, 40]\n",
        "for i in range(len(numeros)):\n",
        "    print(f\"Índice {i}: {numeros[i]}\")\n",
        "```"
      ]
    },
    {
      "cell_type": "markdown",
      "metadata": {
        "id": "CDMA4uXLpLVA"
      },
      "source": [
        "## 🎯 Ejercicio 1\n",
        "Imprime los números del 1 al 10 junto con su cuadrado usando un bucle `for`."
      ]
    },
    {
      "cell_type": "code",
      "metadata": {
        "colab": {
          "base_uri": "https://localhost:8080/"
        },
        "id": "iCKO-nuSpLVA",
        "outputId": "0e8c4b0b-57d8-4266-862f-819ad7efd405"
      },
      "execution_count": 1,
      "outputs": [
        {
          "output_type": "stream",
          "name": "stdout",
          "text": [
            "1^2 = 1\n",
            "2^2 = 4\n",
            "3^2 = 9\n",
            "4^2 = 16\n",
            "5^2 = 25\n",
            "6^2 = 36\n",
            "7^2 = 49\n",
            "8^2 = 64\n",
            "9^2 = 81\n",
            "10^2 = 100\n"
          ]
        }
      ],
      "source": [
        "# Tu solución aquí\n",
        "for i in range(1, 11):\n",
        "    print(f\"{i}^2 = {i**2}\")"
      ]
    },
    {
      "cell_type": "markdown",
      "metadata": {
        "id": "LogeHYFbpLVB"
      },
      "source": [
        "## 🎯 Ejercicio 2\n",
        "Dada la lista `nombres = [\"Ana\", \"Luis\", \"Pedro\"]`, muestra el índice y el nombre con `enumerate()`."
      ]
    },
    {
      "cell_type": "code",
      "metadata": {
        "colab": {
          "base_uri": "https://localhost:8080/"
        },
        "id": "SvAMdFU7pLVB",
        "outputId": "a316d29e-7b9f-43dc-d3ce-b5038bcd1cc2"
      },
      "execution_count": 2,
      "outputs": [
        {
          "output_type": "stream",
          "name": "stdout",
          "text": [
            "0: Ana\n",
            "1: Luis\n",
            "2: Pedro\n"
          ]
        }
      ],
      "source": [
        "# Tu solución aquí\n",
        "nombres = [\"Ana\", \"Luis\", \"Pedro\"]\n",
        "for idx, nombre in enumerate(nombres):\n",
        "    print(f\"{idx}: {nombre}\")"
      ]
    }
  ],
  "metadata": {
    "kernelspec": {
      "display_name": "Python 3",
      "language": "python",
      "name": "python3"
    },
    "language_info": {
      "name": "python",
      "version": ""
    },
    "colab": {
      "provenance": [],
      "include_colab_link": true
    }
  },
  "nbformat": 4,
  "nbformat_minor": 0
}