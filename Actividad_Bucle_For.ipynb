{
  "cells": [
    {
      "cell_type": "markdown",
      "metadata": {
        "id": "view-in-github",
        "colab_type": "text"
      },
      "source": [
        "<a href=\"https://colab.research.google.com/github/alcorrea40/python-colab-notebooks/blob/main/Actividad_Bucle_For.ipynb\" target=\"_parent\"><img src=\"https://colab.research.google.com/assets/colab-badge.svg\" alt=\"Open In Colab\"/></a>"
      ]
    },
    {
      "cell_type": "markdown",
      "id": "72c2904b",
      "metadata": {
        "id": "72c2904b"
      },
      "source": [
        "# Actividad: Bucle for aplicado a listas y rangos"
      ]
    },
    {
      "cell_type": "markdown",
      "id": "82738d38",
      "metadata": {
        "id": "82738d38"
      },
      "source": [
        "## 1. Iterar sobre una lista"
      ]
    },
    {
      "cell_type": "code",
      "execution_count": null,
      "id": "d1725df3",
      "metadata": {
        "id": "d1725df3"
      },
      "outputs": [],
      "source": [
        "frutas = ['manzana', 'banana', 'cereza']\n",
        "for fruta in frutas:\n",
        "    print(fruta)"
      ]
    },
    {
      "cell_type": "markdown",
      "id": "84416609",
      "metadata": {
        "id": "84416609"
      },
      "source": [
        "## 2. Usar range()"
      ]
    },
    {
      "cell_type": "code",
      "execution_count": null,
      "id": "523bfee1",
      "metadata": {
        "id": "523bfee1"
      },
      "outputs": [],
      "source": [
        "for i in range(5):\n",
        "    print('Número:', i)"
      ]
    },
    {
      "cell_type": "markdown",
      "id": "a9ad0ecb",
      "metadata": {
        "id": "a9ad0ecb"
      },
      "source": [
        "## 3. Enumerar elementos con índice"
      ]
    },
    {
      "cell_type": "code",
      "execution_count": null,
      "id": "8a5d2289",
      "metadata": {
        "id": "8a5d2289"
      },
      "outputs": [],
      "source": [
        "for idx, fruta in enumerate(frutas):\n",
        "    print(f'{idx}: {fruta}')"
      ]
    },
    {
      "cell_type": "markdown",
      "id": "38f0da41",
      "metadata": {
        "id": "38f0da41"
      },
      "source": [
        "## Reto 💡\n",
        "Crea una lista con tus cursos favoritos y usa un bucle for para imprimir: 'Me gusta estudiar [curso]'."
      ]
    }
  ],
  "metadata": {
    "colab": {
      "provenance": [],
      "include_colab_link": true
    }
  },
  "nbformat": 4,
  "nbformat_minor": 5
}