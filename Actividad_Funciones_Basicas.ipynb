{
  "cells": [
    {
      "cell_type": "markdown",
      "metadata": {
        "id": "view-in-github",
        "colab_type": "text"
      },
      "source": [
        "<a href=\"https://colab.research.google.com/github/alcorrea40/python-colab-notebooks/blob/main/Actividad_Funciones_Basicas.ipynb\" target=\"_parent\"><img src=\"https://colab.research.google.com/assets/colab-badge.svg\" alt=\"Open In Colab\"/></a>"
      ]
    },
    {
      "cell_type": "markdown",
      "id": "21bac667",
      "metadata": {
        "id": "21bac667"
      },
      "source": [
        "# Actividad: Definición y uso básico de funciones"
      ]
    },
    {
      "cell_type": "markdown",
      "id": "fb650a2d",
      "metadata": {
        "id": "fb650a2d"
      },
      "source": [
        "## 1. Función que imprime un mensaje"
      ]
    },
    {
      "cell_type": "code",
      "execution_count": null,
      "id": "525d2fb5",
      "metadata": {
        "id": "525d2fb5"
      },
      "outputs": [],
      "source": [
        "def saludar():\n",
        "    print('Hola, bienvenido a Python')\n",
        "\n",
        "saludar()"
      ]
    },
    {
      "cell_type": "markdown",
      "id": "1a99de4b",
      "metadata": {
        "id": "1a99de4b"
      },
      "source": [
        "## 2. Función que recibe argumentos"
      ]
    },
    {
      "cell_type": "code",
      "execution_count": null,
      "id": "57680eab",
      "metadata": {
        "id": "57680eab"
      },
      "outputs": [],
      "source": [
        "def bienvenida(nombre):\n",
        "    print(f'Hola, {nombre}!')\n",
        "\n",
        "bienvenida('Carlos')"
      ]
    },
    {
      "cell_type": "markdown",
      "id": "abecb21a",
      "metadata": {
        "id": "abecb21a"
      },
      "source": [
        "## 3. Función que retorna un valor"
      ]
    },
    {
      "cell_type": "code",
      "execution_count": null,
      "id": "d8c0b9e3",
      "metadata": {
        "id": "d8c0b9e3"
      },
      "outputs": [],
      "source": [
        "def cuadrado(numero):\n",
        "    return numero ** 2\n",
        "\n",
        "resultado = cuadrado(4)\n",
        "print('Resultado:', resultado)"
      ]
    },
    {
      "cell_type": "markdown",
      "id": "93550e42",
      "metadata": {
        "id": "93550e42"
      },
      "source": [
        "## Reto 💡\n",
        "Crea una función que reciba un número y devuelva si es par o impar."
      ]
    }
  ],
  "metadata": {
    "colab": {
      "provenance": [],
      "include_colab_link": true
    }
  },
  "nbformat": 4,
  "nbformat_minor": 5
}