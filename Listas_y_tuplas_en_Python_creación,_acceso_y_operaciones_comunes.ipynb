{
  "nbformat": 4,
  "nbformat_minor": 0,
  "metadata": {
    "colab": {
      "provenance": [],
      "authorship_tag": "ABX9TyPUt8rpP4wH3y3E0fQppPhZ",
      "include_colab_link": true
    },
    "kernelspec": {
      "name": "python3",
      "display_name": "Python 3"
    },
    "language_info": {
      "name": "python"
    }
  },
  "cells": [
    {
      "cell_type": "markdown",
      "metadata": {
        "id": "view-in-github",
        "colab_type": "text"
      },
      "source": [
        "<a href=\"https://colab.research.google.com/github/alcorrea40/python-colab-notebooks/blob/main/Listas_y_tuplas_en_Python_creaci%C3%B3n%2C_acceso_y_operaciones_comunes.ipynb\" target=\"_parent\"><img src=\"https://colab.research.google.com/assets/colab-badge.svg\" alt=\"Open In Colab\"/></a>"
      ]
    },
    {
      "cell_type": "markdown",
      "source": [
        "🧩 Celda 1 – Introducción"
      ],
      "metadata": {
        "id": "R6PNMnbRTpZd"
      }
    },
    {
      "cell_type": "code",
      "execution_count": 8,
      "metadata": {
        "colab": {
          "base_uri": "https://localhost:8080/"
        },
        "id": "HpxmplxgTg_T",
        "outputId": "dfd97ae2-8ad8-4735-92c4-73d4eb0de78e"
      },
      "outputs": [
        {
          "output_type": "stream",
          "name": "stdout",
          "text": [
            "¡Empecemos con listas y tuplas!\n"
          ]
        }
      ],
      "source": [
        "# 📘 Bienvenido al mundo de las listas y tuplas en Python\n",
        "# Aquí aprenderás a:\n",
        "# ✅ Crear listas y tuplas\n",
        "# ✅ Acceder a sus elementos\n",
        "# ✅ Usar métodos comunes como append(), insert(), sort(), count(), etc.\n",
        "\n",
        "print(\"¡Empecemos con listas y tuplas!\")\n"
      ]
    },
    {
      "cell_type": "markdown",
      "source": [
        "\n",
        "📋 Celda 2 – Creación de listas y tuplas"
      ],
      "metadata": {
        "id": "Ogeu1EydTvV8"
      }
    },
    {
      "cell_type": "code",
      "source": [
        "# Crear una lista\n",
        "frutas = [\"manzana\", \"banana\", \"cereza\"]\n",
        "print(\"Lista de frutas:\", frutas)\n",
        "\n",
        "# Crear una tupla\n",
        "coordenadas = (10.5, 20.3)\n",
        "print(\"Tupla de coordenadas:\", coordenadas)\n"
      ],
      "metadata": {
        "colab": {
          "base_uri": "https://localhost:8080/"
        },
        "id": "ol5u5vwVTu46",
        "outputId": "24dec88a-39d1-4ecc-9d8c-685049415aff"
      },
      "execution_count": 9,
      "outputs": [
        {
          "output_type": "stream",
          "name": "stdout",
          "text": [
            "Lista de frutas: ['manzana', 'banana', 'cereza']\n",
            "Tupla de coordenadas: (10.5, 20.3)\n"
          ]
        }
      ]
    },
    {
      "cell_type": "markdown",
      "source": [
        "💡 Las listas son mutables (puedes modificarlas), mientras que las tuplas son inmutables."
      ],
      "metadata": {
        "id": "WEGYDF3GT6IB"
      }
    },
    {
      "cell_type": "markdown",
      "source": [
        "🔍 Celda 3 – Acceso a elementos"
      ],
      "metadata": {
        "id": "LSRugGZOUAix"
      }
    },
    {
      "cell_type": "code",
      "source": [
        "# Acceder a elementos de una lista\n",
        "print(\"Primera fruta:\", frutas[0])\n",
        "print(\"Última fruta:\", frutas[-1])\n",
        "\n",
        "# Acceder a elementos de una tupla\n",
        "print(\"Latitud:\", coordenadas[0])\n",
        "print(\"Longitud:\", coordenadas[1])\n"
      ],
      "metadata": {
        "colab": {
          "base_uri": "https://localhost:8080/"
        },
        "id": "HDQf1Dv-T5um",
        "outputId": "523e84ed-aa4c-421a-8721-5c45cedea815"
      },
      "execution_count": 10,
      "outputs": [
        {
          "output_type": "stream",
          "name": "stdout",
          "text": [
            "Primera fruta: manzana\n",
            "Última fruta: cereza\n",
            "Latitud: 10.5\n",
            "Longitud: 20.3\n"
          ]
        }
      ]
    },
    {
      "cell_type": "markdown",
      "source": [
        "🛠️ Celda 4 – Métodos comunes de listas"
      ],
      "metadata": {
        "id": "GeSljkhoUH8o"
      }
    },
    {
      "cell_type": "code",
      "source": [
        "# Agregar elementos\n",
        "frutas.append(\"kiwi\")           # Agrega al final\n",
        "frutas.insert(1, \"mango\")       # Inserta en posición 1\n",
        "print(\"Lista actualizada:\", frutas)\n",
        "\n",
        "# Ordenar y contar\n",
        "numeros = [4, 2, 9, 1, 2, 7]\n",
        "numeros.sort()\n",
        "print(\"Números ordenados:\", numeros)\n",
        "\n",
        "print(\"Veces que aparece el 2:\", numeros.count(2))\n",
        "\n"
      ],
      "metadata": {
        "colab": {
          "base_uri": "https://localhost:8080/"
        },
        "id": "9LVL7G5rUHjm",
        "outputId": "78d60791-31b9-46bc-d5d2-2249191edf98"
      },
      "execution_count": 11,
      "outputs": [
        {
          "output_type": "stream",
          "name": "stdout",
          "text": [
            "Lista actualizada: ['manzana', 'mango', 'banana', 'cereza', 'kiwi']\n",
            "Números ordenados: [1, 2, 2, 4, 7, 9]\n",
            "Veces que aparece el 2: 2\n"
          ]
        }
      ]
    },
    {
      "cell_type": "markdown",
      "source": [
        "📌 Nota: append(), insert(), sort(), count() funcionan solo con listas, no con tuplas."
      ],
      "metadata": {
        "id": "BFU4UIlNUaPT"
      }
    },
    {
      "cell_type": "markdown",
      "source": [
        "❌ Celda 5 – Qué no puedes hacer con tuplas"
      ],
      "metadata": {
        "id": "-MnpqunUUfLy"
      }
    },
    {
      "cell_type": "code",
      "source": [
        "# Las tuplas no pueden ser modificadas una vez creadas\n",
        "colores = (\"rojo\", \"verde\", \"azul\")\n",
        "\n",
        "try:\n",
        "    colores[0] = \"amarillo\"  # Esto lanzará un error\n",
        "except TypeError as e:\n",
        "    print(\"Error:\", e)\n"
      ],
      "metadata": {
        "colab": {
          "base_uri": "https://localhost:8080/"
        },
        "id": "aXRBqctzUZ4N",
        "outputId": "4a5bf6a9-d88e-47a7-d7cd-4b9ce3f8bf85"
      },
      "execution_count": 12,
      "outputs": [
        {
          "output_type": "stream",
          "name": "stdout",
          "text": [
            "Error: 'tuple' object does not support item assignment\n"
          ]
        }
      ]
    },
    {
      "cell_type": "markdown",
      "source": [
        "🧪 Celda 6 – Ejercicio guiado"
      ],
      "metadata": {
        "id": "3fjrR-kWUu0t"
      }
    },
    {
      "cell_type": "code",
      "source": [
        "# Crea una lista llamada 'estudiantes' con 3 nombres\n",
        "# Luego agrega un cuarto estudiante con append()\n",
        "# Inserta uno en la segunda posición\n",
        "# Ordena la lista\n",
        "# Imprime la cantidad de veces que aparece un nombre\n",
        "\n",
        "# Tu código:\n",
        "estudiantes = [\"Ana\", \"Luis\", \"Carlos\"]\n",
        "estudiantes.append(\"María\")\n",
        "estudiantes.insert(1, \"Pedro\")\n",
        "estudiantes.sort()\n",
        "print(\"Lista de estudiantes:\", estudiantes)\n",
        "print(\"Cantidad de veces que aparece 'Ana':\", estudiantes.count(\"Ana\"))\n"
      ],
      "metadata": {
        "colab": {
          "base_uri": "https://localhost:8080/"
        },
        "id": "gyl1aGrNUs9Z",
        "outputId": "3c6ecf19-c98f-4609-fc14-f149312313e8"
      },
      "execution_count": 16,
      "outputs": [
        {
          "output_type": "stream",
          "name": "stdout",
          "text": [
            "Lista de estudiantes: ['Ana', 'Carlos', 'Luis', 'María', 'Pedro']\n",
            "Cantidad de veces que aparece 'Ana': 1\n"
          ]
        }
      ]
    },
    {
      "cell_type": "markdown",
      "source": [
        "🧠 Celda 8 – Reflexión final"
      ],
      "metadata": {
        "id": "g0Iakg04U7uq"
      }
    },
    {
      "cell_type": "code",
      "source": [
        "print(\"🎉 ¡Bien hecho!\")\n",
        "print(\"Ahora sabes cómo manejar listas y tuplas, cómo acceder a sus elementos y cómo usar los métodos más comunes.\")\n"
      ],
      "metadata": {
        "colab": {
          "base_uri": "https://localhost:8080/"
        },
        "id": "rNh0DFVwU7Yr",
        "outputId": "ace71032-6afa-4ac0-cc71-4d3fe407f55c"
      },
      "execution_count": 14,
      "outputs": [
        {
          "output_type": "stream",
          "name": "stdout",
          "text": [
            "🎉 ¡Bien hecho!\n",
            "Ahora sabes cómo manejar listas y tuplas, cómo acceder a sus elementos y cómo usar los métodos más comunes.\n"
          ]
        }
      ]
    }
  ]
}