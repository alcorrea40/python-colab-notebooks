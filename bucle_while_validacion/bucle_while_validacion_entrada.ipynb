{
  "cells": [
    {
      "cell_type": "markdown",
      "metadata": {
        "id": "view-in-github",
        "colab_type": "text"
      },
      "source": [
        "<a href=\"https://colab.research.google.com/github/alcorrea40/python-colab-notebooks/blob/main/bucle_while_validacion_entrada.ipynb\" target=\"_parent\"><img src=\"https://colab.research.google.com/assets/colab-badge.svg\" alt=\"Open In Colab\"/></a>"
      ]
    },
    {
      "cell_type": "markdown",
      "metadata": {
        "id": "EqoiKyXwr1E2"
      },
      "source": [
        "# 🔁 Actividad Interactiva #2: Bucle `while` con validación de entrada\n",
        "\n",
        "En esta actividad, aprenderás a utilizar bucles `while` para ejecutar instrucciones de forma repetida hasta que se cumpla una condición, especialmente útil cuando trabajamos con validación de entradas del usuario."
      ]
    },
    {
      "cell_type": "markdown",
      "metadata": {
        "id": "Kkh2Mq0Gr1E9"
      },
      "source": [
        "## 🧪 Ejemplo básico: Validar número positivo\n",
        "```python\n",
        "numero = -1\n",
        "while numero < 0:\n",
        "    numero = int(input(\"Introduce un número positivo: \"))\n",
        "print(\"¡Gracias! Número ingresado:\", numero)\n",
        "```"
      ]
    },
    {
      "cell_type": "markdown",
      "metadata": {
        "id": "gYUGZC2cr1E-"
      },
      "source": [
        "## 🎯 Ejercicio 1\n",
        "Pide al usuario que ingrese una contraseña. Si la contraseña no es \"python123\", debe volver a intentarlo hasta que sea correcta."
      ]
    },
    {
      "cell_type": "code",
      "metadata": {
        "colab": {
          "base_uri": "https://localhost:8080/"
        },
        "id": "ePh5HkL3r1E-",
        "outputId": "4ed197fb-8c9d-4b82-cb56-3337c660d15b"
      },
      "execution_count": 1,
      "outputs": [
        {
          "output_type": "stream",
          "name": "stdout",
          "text": [
            "Introduce la contraseña: python123\n",
            "Acceso concedido.\n"
          ]
        }
      ],
      "source": [
        "# Tu código aquí\n",
        "contrasena = \"\"\n",
        "while contrasena != \"python123\":\n",
        "    contrasena = input(\"Introduce la contraseña: \")\n",
        "print(\"Acceso concedido.\")"
      ]
    },
    {
      "cell_type": "markdown",
      "metadata": {
        "id": "Gi1EWztrr1E_"
      },
      "source": [
        "## 🎯 Ejercicio 2\n",
        "Crea un contador que sume números introducidos por el usuario hasta que ingrese 0. Luego muestra el total acumulado."
      ]
    },
    {
      "cell_type": "code",
      "metadata": {
        "colab": {
          "base_uri": "https://localhost:8080/"
        },
        "id": "7Huy-kTHr1E_",
        "outputId": "5f132a11-d6b9-428f-f45e-95bb83a06632"
      },
      "execution_count": 2,
      "outputs": [
        {
          "output_type": "stream",
          "name": "stdout",
          "text": [
            "Introduce un número (0 para terminar): 0\n",
            "Suma total: 0\n"
          ]
        }
      ],
      "source": [
        "# Tu código aquí\n",
        "suma = 0\n",
        "numero = None\n",
        "while numero != 0:\n",
        "    numero = int(input(\"Introduce un número (0 para terminar): \"))\n",
        "    suma += numero\n",
        "print(\"Suma total:\", suma)"
      ]
    }
  ],
  "metadata": {
    "kernelspec": {
      "display_name": "Python 3",
      "language": "python",
      "name": "python3"
    },
    "language_info": {
      "name": "python",
      "version": ""
    },
    "colab": {
      "provenance": [],
      "include_colab_link": true
    }
  },
  "nbformat": 4,
  "nbformat_minor": 0
}
