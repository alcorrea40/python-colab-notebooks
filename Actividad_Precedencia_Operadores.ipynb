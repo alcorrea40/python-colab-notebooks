{
  "cells": [
    {
      "cell_type": "markdown",
      "metadata": {
        "id": "view-in-github",
        "colab_type": "text"
      },
      "source": [
        "<a href=\"https://colab.research.google.com/github/alcorrea40/python-colab-notebooks/blob/main/Actividad_Precedencia_Operadores.ipynb\" target=\"_parent\"><img src=\"https://colab.research.google.com/assets/colab-badge.svg\" alt=\"Open In Colab\"/></a>"
      ]
    },
    {
      "cell_type": "markdown",
      "id": "107311d2",
      "metadata": {
        "id": "107311d2"
      },
      "source": [
        "# Actividad: Precedencia y Combinación de Operadores"
      ]
    },
    {
      "cell_type": "markdown",
      "id": "0e1514cf",
      "metadata": {
        "id": "0e1514cf"
      },
      "source": [
        "## 1. Ejemplos básicos"
      ]
    },
    {
      "cell_type": "code",
      "execution_count": null,
      "id": "7bb72051",
      "metadata": {
        "id": "7bb72051"
      },
      "outputs": [],
      "source": [
        "resultado1 = 10 + 2 * 3\n",
        "resultado2 = (10 + 2) * 3\n",
        "print('Sin paréntesis:', resultado1)\n",
        "print('Con paréntesis:', resultado2)"
      ]
    },
    {
      "cell_type": "markdown",
      "id": "730361dd",
      "metadata": {
        "id": "730361dd"
      },
      "source": [
        "## 2. Precedencia lógica"
      ]
    },
    {
      "cell_type": "code",
      "execution_count": null,
      "id": "127cf49e",
      "metadata": {
        "id": "127cf49e"
      },
      "outputs": [],
      "source": [
        "a = True\n",
        "b = False\n",
        "c = True\n",
        "print(a or b and c)\n",
        "print((a or b) and c)"
      ]
    },
    {
      "cell_type": "markdown",
      "id": "202063ad",
      "metadata": {
        "id": "202063ad"
      },
      "source": [
        "## 3. Reto 💡\n",
        "Crea una expresión que combine al menos 3 operadores diferentes y predice el resultado antes de ejecutarla."
      ]
    }
  ],
  "metadata": {
    "colab": {
      "provenance": [],
      "include_colab_link": true
    }
  },
  "nbformat": 4,
  "nbformat_minor": 5
}