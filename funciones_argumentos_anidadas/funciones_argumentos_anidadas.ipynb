{
  "cells": [
    {
      "cell_type": "markdown",
      "metadata": {
        "id": "view-in-github",
        "colab_type": "text"
      },
      "source": [
        "<a href=\"https://colab.research.google.com/github/alcorrea40/python-colab-notebooks/blob/main/funciones_argumentos_anidadas.ipynb\" target=\"_parent\"><img src=\"https://colab.research.google.com/assets/colab-badge.svg\" alt=\"Open In Colab\"/></a>"
      ]
    },
    {
      "cell_type": "markdown",
      "metadata": {
        "id": "ykTXQfQf0mrn"
      },
      "source": [
        "# Actividad Interactiva #2: Argumentos, retorno y funciones anidadas\n",
        "\n",
        "En esta actividad aprenderás a definir funciones que:\n",
        "- Reciben múltiples argumentos.\n",
        "- Retornan resultados.\n",
        "- Llaman internamente a otras funciones.\n",
        "\n",
        "👉 Ejecuta cada celda y trata de comprender el flujo de datos entre funciones."
      ]
    },
    {
      "cell_type": "code",
      "execution_count": 1,
      "metadata": {
        "colab": {
          "base_uri": "https://localhost:8080/"
        },
        "id": "bluOJbG-0mrw",
        "outputId": "ac905b16-aadb-4e4b-a1fa-5c95da9d87bc"
      },
      "outputs": [
        {
          "output_type": "stream",
          "name": "stdout",
          "text": [
            "Área del rectángulo: 15\n"
          ]
        }
      ],
      "source": [
        "# Función simple que calcula el área de un rectángulo\n",
        "def calcular_area(base, altura):\n",
        "    return base * altura\n",
        "\n",
        "# Prueba de la función\n",
        "area = calcular_area(5, 3)\n",
        "print(\"Área del rectángulo:\", area)"
      ]
    },
    {
      "cell_type": "code",
      "execution_count": 2,
      "metadata": {
        "colab": {
          "base_uri": "https://localhost:8080/"
        },
        "id": "mZQVIWWb0mry",
        "outputId": "da3f3a91-0063-43bd-afbb-cbde6568e8ba"
      },
      "outputs": [
        {
          "output_type": "stream",
          "name": "stdout",
          "text": [
            "¿6 es par? True\n",
            "¿7 es par? False\n"
          ]
        }
      ],
      "source": [
        "# Función que verifica si un número es par\n",
        "def es_par(numero):\n",
        "    return numero % 2 == 0\n",
        "\n",
        "# Prueba\n",
        "print(\"¿6 es par?\", es_par(6))\n",
        "print(\"¿7 es par?\", es_par(7))"
      ]
    },
    {
      "cell_type": "code",
      "execution_count": 3,
      "metadata": {
        "colab": {
          "base_uri": "https://localhost:8080/"
        },
        "id": "7N7rBeIQ0mrz",
        "outputId": "40368e03-c99f-451a-bab7-33f863037784"
      },
      "outputs": [
        {
          "output_type": "stream",
          "name": "stdout",
          "text": [
            "El área 20 es par.\n"
          ]
        }
      ],
      "source": [
        "# Función anidada: usa las anteriores\n",
        "def evaluar_area_y_paridad(base, altura):\n",
        "    area = calcular_area(base, altura)\n",
        "    if es_par(area):\n",
        "        return f\"El área {area} es par.\"\n",
        "    else:\n",
        "        return f\"El área {area} es impar.\"\n",
        "\n",
        "# Prueba\n",
        "print(evaluar_area_y_paridad(4, 5))"
      ]
    },
    {
      "cell_type": "markdown",
      "metadata": {
        "id": "1lbwBxik0mrz"
      },
      "source": [
        "## 🎯 Desafío final\n",
        "\n",
        "Escribe una función que reciba tres números: largo, ancho y altura de una caja. La función debe calcular:\n",
        "- El volumen de la caja.\n",
        "- Verificar si el volumen es mayor a 100.\n",
        "- Retornar un mensaje personalizado con base en el resultado.\n",
        "\n",
        "Luego llama esa función y muestra el resultado en pantalla."
      ]
    }
  ],
  "metadata": {
    "kernelspec": {
      "display_name": "Python 3",
      "language": "python",
      "name": "python3"
    },
    "language_info": {
      "name": "python",
      "version": "3.9"
    },
    "colab": {
      "provenance": [],
      "include_colab_link": true
    }
  },
  "nbformat": 4,
  "nbformat_minor": 0
}
