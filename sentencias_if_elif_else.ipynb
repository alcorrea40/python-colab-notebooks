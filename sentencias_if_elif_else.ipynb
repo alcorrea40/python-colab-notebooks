{
  "cells": [
    {
      "cell_type": "markdown",
      "metadata": {
        "id": "view-in-github",
        "colab_type": "text"
      },
      "source": [
        "<a href=\"https://colab.research.google.com/github/alcorrea40/python-colab-notebooks/blob/main/sentencias_if_elif_else.ipynb\" target=\"_parent\"><img src=\"https://colab.research.google.com/assets/colab-badge.svg\" alt=\"Open In Colab\"/></a>"
      ]
    },
    {
      "cell_type": "markdown",
      "metadata": {
        "id": "grXsKAxcT7_A"
      },
      "source": [
        "# 🧩 Actividad Interactiva #1: Sentencias `if`, `elif` y `else`\n",
        "\n",
        "Este cuaderno complementa la actividad H5P. Aquí escribirás tus propias condiciones utilizando estructuras condicionales en Python para tomar decisiones basadas en diferentes valores, como edades, notas o categorías."
      ]
    },
    {
      "cell_type": "markdown",
      "metadata": {
        "id": "b5aw2GBMT7_H"
      },
      "source": [
        "## 🔍 Ejemplo básico con `if`\n",
        "```python\n",
        "edad = 20\n",
        "if edad >= 18:\n",
        "    print(\"Eres mayor de edad.\")\n",
        "```"
      ]
    },
    {
      "cell_type": "markdown",
      "metadata": {
        "id": "tt12A_LKT7_I"
      },
      "source": [
        "## 🔁 Ejemplo con `if`, `elif` y `else`\n",
        "```python\n",
        "nota = 75\n",
        "if nota >= 90:\n",
        "    print(\"Excelente\")\n",
        "elif nota >= 70:\n",
        "    print(\"Aprobado\")\n",
        "else:\n",
        "    print(\"Reprobado\")\n",
        "```"
      ]
    },
    {
      "cell_type": "code",
      "execution_count": 1,
      "metadata": {
        "id": "4Vbo0Og7T7_I"
      },
      "outputs": [],
      "source": [
        "# 📝 Ejercicio 1\n",
        "# Escribe una condición que evalúe la edad de una persona e imprima si es niño (0-12), adolescente (13-17), o adulto (18+).\n",
        "edad = 15\n",
        "# Tu código aquí:"
      ]
    },
    {
      "cell_type": "code",
      "execution_count": 2,
      "metadata": {
        "id": "f8VX_mEwT7_J"
      },
      "outputs": [],
      "source": [
        "# 📝 Ejercicio 2\n",
        "# Escribe una estructura condicional que evalúe la nota de un examen y devuelva:\n",
        "# \"Sobresaliente\" si es mayor o igual a 90\n",
        "# \"Bueno\" si está entre 70 y 89\n",
        "# \"Insuficiente\" si es menor a 70\n",
        "nota = 82\n",
        "# Tu código aquí:"
      ]
    },
    {
      "cell_type": "markdown",
      "metadata": {
        "id": "QJ1P-6M-T7_J"
      },
      "source": [
        "## 🎯 Desafío final\n",
        "Crea un programa que reciba una categoría de producto (`\"A\"`, `\"B\"`, `\"C\"`) y muestre un mensaje con el tipo de servicio asignado.\n",
        "- A → \"Atención Premium\"\n",
        "- B → \"Atención Estándar\"\n",
        "- C → \"Atención Básica\"\n",
        "- Otra → \"Categoría no válida\""
      ]
    },
    {
      "cell_type": "code",
      "execution_count": 3,
      "metadata": {
        "id": "vmWilCwqT7_J"
      },
      "outputs": [],
      "source": [
        "# Desafío: Evalúa la categoría\n",
        "categoria = \"B\"\n",
        "# Tu código aquí:"
      ]
    }
  ],
  "metadata": {
    "kernelspec": {
      "display_name": "Python 3",
      "language": "python",
      "name": "python3"
    },
    "language_info": {
      "name": "python",
      "version": ""
    },
    "colab": {
      "provenance": [],
      "include_colab_link": true
    }
  },
  "nbformat": 4,
  "nbformat_minor": 0
}