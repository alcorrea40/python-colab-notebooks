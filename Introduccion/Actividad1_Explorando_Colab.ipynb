{
  "cells": [
    {
      "cell_type": "markdown",
      "metadata": {
        "id": "view-in-github",
        "colab_type": "text"
      },
      "source": [
        "<a href=\"https://colab.research.google.com/github/alcorrea40/python-colab-notebooks/blob/main/Actividad1_Explorando_Colab.ipynb\" target=\"_parent\"><img src=\"https://colab.research.google.com/assets/colab-badge.svg\" alt=\"Open In Colab\"/></a>"
      ]
    },
    {
      "cell_type": "markdown",
      "id": "8683237c",
      "metadata": {
        "id": "8683237c"
      },
      "source": [
        "# Actividad 1: Explorando Google Colab\n",
        "En este cuaderno aprenderás a usar el entorno de Google Colab para escribir y ejecutar tu primer código en Python."
      ]
    },
    {
      "cell_type": "markdown",
      "id": "9c78d6fc",
      "metadata": {
        "id": "9c78d6fc"
      },
      "source": [
        "## 1. Ejecuta tu primer celda de código"
      ]
    },
    {
      "cell_type": "code",
      "execution_count": null,
      "id": "7b270130",
      "metadata": {
        "id": "7b270130"
      },
      "outputs": [],
      "source": [
        "print('¡Hola desde Google Colab!')"
      ]
    },
    {
      "cell_type": "markdown",
      "id": "1f1a7a9b",
      "metadata": {
        "id": "1f1a7a9b"
      },
      "source": [
        "## 2. Operaciones básicas en Python\n",
        "Intenta ejecutar algunas operaciones matemáticas simples:"
      ]
    },
    {
      "cell_type": "code",
      "execution_count": null,
      "id": "39cf3d2c",
      "metadata": {
        "id": "39cf3d2c"
      },
      "outputs": [],
      "source": [
        "2 + 2\n",
        "5 * 3\n",
        "10 / 2"
      ]
    },
    {
      "cell_type": "markdown",
      "id": "46e6d2fe",
      "metadata": {
        "id": "46e6d2fe"
      },
      "source": [
        "## 3. Crea tus propios mensajes\n",
        "Escribe tu nombre y una frase usando la función `print()`:"
      ]
    },
    {
      "cell_type": "code",
      "execution_count": null,
      "id": "31a5536d",
      "metadata": {
        "id": "31a5536d"
      },
      "outputs": [],
      "source": [
        "print('Mi nombre es ____')\n",
        "print('Estoy aprendiendo Python')"
      ]
    },
    {
      "cell_type": "markdown",
      "id": "25ccee93",
      "metadata": {
        "id": "25ccee93"
      },
      "source": [
        "## 4. Comentarios en Python\n",
        "Los comentarios no se ejecutan y se escriben con `#` al inicio de la línea:"
      ]
    },
    {
      "cell_type": "code",
      "execution_count": null,
      "id": "11c5cf79",
      "metadata": {
        "id": "11c5cf79"
      },
      "outputs": [],
      "source": [
        "# Esto es un comentario\n",
        "# Puedes describir lo que hace tu código aquí\n",
        "print('Comentarios en acción')"
      ]
    },
    {
      "cell_type": "markdown",
      "id": "62daf8a0",
      "metadata": {
        "id": "62daf8a0"
      },
      "source": [
        "## 5. Reto final 💡\n",
        "**Desafío:** Crea un mensaje personalizado que incluya tu nombre, edad y ciudad. Usa `print()` para mostrarlo en pantalla."
      ]
    },
    {
      "cell_type": "code",
      "execution_count": null,
      "id": "5dad5f03",
      "metadata": {
        "id": "5dad5f03"
      },
      "outputs": [],
      "source": [
        "print('Hola, mi nombre es ____')\n",
        "print('Tengo __ años y vivo en ____')"
      ]
    }
  ],
  "metadata": {
    "colab": {
      "provenance": [],
      "include_colab_link": true
    }
  },
  "nbformat": 4,
  "nbformat_minor": 5
}
