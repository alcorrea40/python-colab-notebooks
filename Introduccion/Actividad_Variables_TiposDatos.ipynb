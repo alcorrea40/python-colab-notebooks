{
  "cells": [
    {
      "cell_type": "markdown",
      "metadata": {
        "id": "view-in-github",
        "colab_type": "text"
      },
      "source": [
        "<a href=\"https://colab.research.google.com/github/alcorrea40/python-colab-notebooks/blob/main/Actividad_Variables_TiposDatos.ipynb\" target=\"_parent\"><img src=\"https://colab.research.google.com/assets/colab-badge.svg\" alt=\"Open In Colab\"/></a>"
      ]
    },
    {
      "cell_type": "markdown",
      "id": "264bc1d9",
      "metadata": {
        "id": "264bc1d9"
      },
      "source": [
        "# Actividad: Variables y Tipos de Datos en Python\n",
        "En esta actividad aprenderás a declarar variables, identificar tipos de datos y realizar conversiones."
      ]
    },
    {
      "cell_type": "markdown",
      "id": "f851d629",
      "metadata": {
        "id": "f851d629"
      },
      "source": [
        "## 1. Declarar variables numéricas y de texto"
      ]
    },
    {
      "cell_type": "code",
      "execution_count": null,
      "id": "e25d17fa",
      "metadata": {
        "id": "e25d17fa"
      },
      "outputs": [],
      "source": [
        "nombre = 'Laura'\n",
        "edad = 25\n",
        "altura = 1.65\n",
        "print(nombre)\n",
        "print(edad)\n",
        "print(altura)"
      ]
    },
    {
      "cell_type": "markdown",
      "id": "26ed7ee8",
      "metadata": {
        "id": "26ed7ee8"
      },
      "source": [
        "## 2. Usar la función `type()` para verificar tipos de datos"
      ]
    },
    {
      "cell_type": "code",
      "execution_count": null,
      "id": "c332f577",
      "metadata": {
        "id": "c332f577"
      },
      "outputs": [],
      "source": [
        "print(type(nombre))\n",
        "print(type(edad))\n",
        "print(type(altura))"
      ]
    },
    {
      "cell_type": "markdown",
      "id": "6f1d7595",
      "metadata": {
        "id": "6f1d7595"
      },
      "source": [
        "## 3. Conversión de tipos"
      ]
    },
    {
      "cell_type": "code",
      "execution_count": null,
      "id": "79d298b1",
      "metadata": {
        "id": "79d298b1"
      },
      "outputs": [],
      "source": [
        "edad_str = str(edad)\n",
        "altura_int = int(altura)\n",
        "print(edad_str)\n",
        "print(altura_int)"
      ]
    },
    {
      "cell_type": "markdown",
      "id": "3f757b31",
      "metadata": {
        "id": "3f757b31"
      },
      "source": [
        "## 4. Uso de operadores con variables"
      ]
    },
    {
      "cell_type": "code",
      "execution_count": null,
      "id": "9929420b",
      "metadata": {
        "id": "9929420b"
      },
      "outputs": [],
      "source": [
        "suma = edad + 10\n",
        "mensaje = nombre + ' tiene ' + str(edad) + ' años'\n",
        "print(suma)\n",
        "print(mensaje)"
      ]
    },
    {
      "cell_type": "markdown",
      "id": "efbf9672",
      "metadata": {
        "id": "efbf9672"
      },
      "source": [
        "## 5. Reto 💡\n",
        "Crea tres variables con tu nombre, año de nacimiento y ciudad. Calcula tu edad actual y genera un mensaje como: 'Soy [nombre], tengo [edad] años y vivo en [ciudad]'."
      ]
    },
    {
      "cell_type": "code",
      "execution_count": null,
      "id": "2247e63b",
      "metadata": {
        "id": "2247e63b"
      },
      "outputs": [],
      "source": [
        "# Tu código aquí"
      ]
    }
  ],
  "metadata": {
    "colab": {
      "provenance": [],
      "include_colab_link": true
    }
  },
  "nbformat": 4,
  "nbformat_minor": 5
}