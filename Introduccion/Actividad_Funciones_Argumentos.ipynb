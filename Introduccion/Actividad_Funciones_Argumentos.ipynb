{
  "cells": [
    {
      "cell_type": "markdown",
      "metadata": {
        "id": "view-in-github",
        "colab_type": "text"
      },
      "source": [
        "<a href=\"https://colab.research.google.com/github/alcorrea40/python-colab-notebooks/blob/main/Actividad_Funciones_Argumentos.ipynb\" target=\"_parent\"><img src=\"https://colab.research.google.com/assets/colab-badge.svg\" alt=\"Open In Colab\"/></a>"
      ]
    },
    {
      "cell_type": "markdown",
      "id": "27df873c",
      "metadata": {
        "id": "27df873c"
      },
      "source": [
        "# Actividad: Argumentos, retorno y funciones anidadas"
      ]
    },
    {
      "cell_type": "markdown",
      "id": "ada3fff7",
      "metadata": {
        "id": "ada3fff7"
      },
      "source": [
        "## 1. Función con múltiples argumentos"
      ]
    },
    {
      "cell_type": "code",
      "execution_count": null,
      "id": "80a1bc05",
      "metadata": {
        "id": "80a1bc05"
      },
      "outputs": [],
      "source": [
        "def calcular_area(base, altura):\n",
        "    return base * altura / 2\n",
        "\n",
        "print('Área:', calcular_area(10, 5))"
      ]
    },
    {
      "cell_type": "markdown",
      "id": "cf5bbb96",
      "metadata": {
        "id": "cf5bbb96"
      },
      "source": [
        "## 2. Función que llama a otra función"
      ]
    },
    {
      "cell_type": "code",
      "execution_count": null,
      "id": "1f068d6a",
      "metadata": {
        "id": "1f068d6a"
      },
      "outputs": [],
      "source": [
        "def saludo_personalizado(nombre):\n",
        "    return f'Hola {nombre}, bienvenido/a'\n",
        "\n",
        "def mensaje_completo(nombre):\n",
        "    saludo = saludo_personalizado(nombre)\n",
        "    return saludo + ' al curso de Python'\n",
        "\n",
        "print(mensaje_completo('Laura'))"
      ]
    },
    {
      "cell_type": "markdown",
      "id": "9172e124",
      "metadata": {
        "id": "9172e124"
      },
      "source": [
        "## Reto 💡\n",
        "Crea una función que reciba el nombre y la edad de una persona y devuelva un mensaje como:\n",
        "'Soy [nombre] y tengo [edad] años. Estoy aprendiendo Python.'"
      ]
    }
  ],
  "metadata": {
    "colab": {
      "provenance": [],
      "include_colab_link": true
    }
  },
  "nbformat": 4,
  "nbformat_minor": 5
}