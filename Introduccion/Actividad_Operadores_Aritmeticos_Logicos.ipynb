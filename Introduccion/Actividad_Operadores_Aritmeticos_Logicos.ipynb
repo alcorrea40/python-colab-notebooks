{
  "cells": [
    {
      "cell_type": "markdown",
      "metadata": {
        "id": "view-in-github",
        "colab_type": "text"
      },
      "source": [
        "<a href=\"https://colab.research.google.com/github/alcorrea40/python-colab-notebooks/blob/main/Actividad_Operadores_Aritmeticos_Logicos.ipynb\" target=\"_parent\"><img src=\"https://colab.research.google.com/assets/colab-badge.svg\" alt=\"Open In Colab\"/></a>"
      ]
    },
    {
      "cell_type": "markdown",
      "id": "98227531",
      "metadata": {
        "id": "98227531"
      },
      "source": [
        "# Actividad: Operadores Aritméticos y Lógicos"
      ]
    },
    {
      "cell_type": "markdown",
      "id": "611162cc",
      "metadata": {
        "id": "611162cc"
      },
      "source": [
        "## 1. Operadores aritméticos"
      ]
    },
    {
      "cell_type": "code",
      "execution_count": null,
      "id": "45c1c5bb",
      "metadata": {
        "id": "45c1c5bb"
      },
      "outputs": [],
      "source": [
        "a = 10\n",
        "b = 3\n",
        "print('Suma:', a + b)\n",
        "print('Resta:', a - b)\n",
        "print('Multiplicación:', a * b)\n",
        "print('División:', a / b)\n",
        "print('División entera:', a // b)\n",
        "print('Módulo:', a % b)\n",
        "print('Potencia:', a ** b)"
      ]
    },
    {
      "cell_type": "markdown",
      "id": "b423fbc9",
      "metadata": {
        "id": "b423fbc9"
      },
      "source": [
        "## 2. Operadores lógicos"
      ]
    },
    {
      "cell_type": "code",
      "execution_count": null,
      "id": "2b20be27",
      "metadata": {
        "id": "2b20be27"
      },
      "outputs": [],
      "source": [
        "x = True\n",
        "y = False\n",
        "print('AND:', x and y)\n",
        "print('OR:', x or y)\n",
        "print('NOT:', not x)"
      ]
    },
    {
      "cell_type": "markdown",
      "id": "69a6aa13",
      "metadata": {
        "id": "69a6aa13"
      },
      "source": [
        "## 3. Reto 💡\n",
        "Crea dos variables numéricas. Imprime si ambas son mayores que 5, si al menos una es mayor y si ninguna lo es."
      ]
    }
  ],
  "metadata": {
    "colab": {
      "provenance": [],
      "include_colab_link": true
    }
  },
  "nbformat": 4,
  "nbformat_minor": 5
}