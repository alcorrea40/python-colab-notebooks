{
  "cells": [
    {
      "cell_type": "markdown",
      "metadata": {
        "id": "view-in-github",
        "colab_type": "text"
      },
      "source": [
        "<a href=\"https://colab.research.google.com/github/alcorrea40/python-colab-notebooks/blob/main/Actividad_Pandas_Acceso.ipynb\" target=\"_parent\"><img src=\"https://colab.research.google.com/assets/colab-badge.svg\" alt=\"Open In Colab\"/></a>"
      ]
    },
    {
      "cell_type": "markdown",
      "id": "2fecf9ea",
      "metadata": {
        "id": "2fecf9ea"
      },
      "source": [
        "# Actividad: Acceso a columnas y filas en un DataFrame"
      ]
    },
    {
      "cell_type": "markdown",
      "id": "5b1152ee",
      "metadata": {
        "id": "5b1152ee"
      },
      "source": [
        "## 1. Acceso a columnas"
      ]
    },
    {
      "cell_type": "code",
      "execution_count": null,
      "id": "845581c7",
      "metadata": {
        "id": "845581c7"
      },
      "outputs": [],
      "source": [
        "print(data['Month'])\n",
        "print(data[['Month', 'JAN']])"
      ]
    },
    {
      "cell_type": "markdown",
      "id": "94cfdc7e",
      "metadata": {
        "id": "94cfdc7e"
      },
      "source": [
        "## 2. Filtrado por condición"
      ]
    },
    {
      "cell_type": "code",
      "execution_count": null,
      "id": "6123ba5c",
      "metadata": {
        "id": "6123ba5c"
      },
      "outputs": [],
      "source": [
        "enero_mayor_300 = data[data['JAN'] > 300]\n",
        "print(enero_mayor_300)"
      ]
    },
    {
      "cell_type": "markdown",
      "id": "512255f9",
      "metadata": {
        "id": "512255f9"
      },
      "source": [
        "## 3. Uso de loc[] y iloc[]"
      ]
    },
    {
      "cell_type": "code",
      "execution_count": null,
      "id": "e2028bb4",
      "metadata": {
        "id": "e2028bb4"
      },
      "outputs": [],
      "source": [
        "print(data.loc[0])        # por etiqueta de índice\n",
        "print(data.iloc[1:4])    # por posición numérica"
      ]
    },
    {
      "cell_type": "markdown",
      "id": "8ddfc399",
      "metadata": {
        "id": "8ddfc399"
      },
      "source": [
        "## Reto 💡\n",
        "Accede a las filas donde FEB > 300 y muestra solo las columnas Month y FEB usando loc."
      ]
    }
  ],
  "metadata": {
    "colab": {
      "provenance": [],
      "include_colab_link": true
    }
  },
  "nbformat": 4,
  "nbformat_minor": 5
}