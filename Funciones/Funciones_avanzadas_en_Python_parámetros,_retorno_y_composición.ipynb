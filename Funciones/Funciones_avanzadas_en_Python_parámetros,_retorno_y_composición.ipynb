{
  "nbformat": 4,
  "nbformat_minor": 0,
  "metadata": {
    "colab": {
      "provenance": [],
      "authorship_tag": "ABX9TyP58o2oTZOGGuLWd7Cribxa",
      "include_colab_link": true
    },
    "kernelspec": {
      "name": "python3",
      "display_name": "Python 3"
    },
    "language_info": {
      "name": "python"
    }
  },
  "cells": [
    {
      "cell_type": "markdown",
      "metadata": {
        "id": "view-in-github",
        "colab_type": "text"
      },
      "source": [
        "<a href=\"https://colab.research.google.com/github/alcorrea40/python-colab-notebooks/blob/main/Funciones_avanzadas_en_Python_par%C3%A1metros%2C_retorno_y_composici%C3%B3n.ipynb\" target=\"_parent\"><img src=\"https://colab.research.google.com/assets/colab-badge.svg\" alt=\"Open In Colab\"/></a>"
      ]
    },
    {
      "cell_type": "markdown",
      "source": [
        "🧩 Celda 1 – Introducción"
      ],
      "metadata": {
        "id": "p-YaWpiPR-1a"
      }
    },
    {
      "cell_type": "code",
      "execution_count": 1,
      "metadata": {
        "colab": {
          "base_uri": "https://localhost:8080/"
        },
        "id": "04NUfFmuRJMb",
        "outputId": "852f5a46-8302-4198-aaec-68958dbf820b"
      },
      "outputs": [
        {
          "output_type": "stream",
          "name": "stdout",
          "text": [
            "¡Comencemos!\n"
          ]
        }
      ],
      "source": [
        "# Funciones en Python (Nivel intermedio)\n",
        "# En este notebook aprenderás a:\n",
        "\n",
        "# ✅ Definir funciones con múltiples parámetros\n",
        "# ✅ Retornar valores desde funciones\n",
        "# ✅ Llamar funciones dentro de otras funciones\n",
        "\n",
        "print(\"¡Comencemos!\")\n"
      ]
    },
    {
      "cell_type": "markdown",
      "source": [
        "🧮 Celda 2 – Función con múltiples parámetros"
      ],
      "metadata": {
        "id": "S7Edv3hvSDH8"
      }
    },
    {
      "cell_type": "code",
      "source": [
        "def calcular_precio_final(precio_base, impuesto, descuento):\n",
        "    \"\"\"\n",
        "    Calcula el precio final de un producto aplicando impuesto y descuento.\n",
        "    \"\"\"\n",
        "    precio_con_impuesto = precio_base + (precio_base * impuesto)\n",
        "    precio_final = precio_con_impuesto - (precio_con_impuesto * descuento)\n",
        "    return precio_final\n",
        "\n",
        "# Prueba\n",
        "print(\"Precio final:\", calcular_precio_final(100, 0.19, 0.10))  # 100 base, 19% impuesto, 10% descuento\n"
      ],
      "metadata": {
        "colab": {
          "base_uri": "https://localhost:8080/"
        },
        "id": "YJGBQ4wARLAN",
        "outputId": "2ef998d1-e0ff-4412-c7ec-94ec7d28ca1b"
      },
      "execution_count": 2,
      "outputs": [
        {
          "output_type": "stream",
          "name": "stdout",
          "text": [
            "Precio final: 107.1\n"
          ]
        }
      ]
    },
    {
      "cell_type": "markdown",
      "source": [
        "🧪 Celda 3 – Ejercicio práctico"
      ],
      "metadata": {
        "id": "1Voz3dD-SJLt"
      }
    },
    {
      "cell_type": "code",
      "source": [
        "# 🧪 Ejercicio:\n",
        "# Crea una función llamada 'calcular_total_pedido' que reciba:\n",
        "# - precio_unitario\n",
        "# - cantidad\n",
        "# - impuesto (por defecto 0.19)\n",
        "\n",
        "# Y retorne el total del pedido con impuestos incluidos.\n",
        "\n",
        "# Escribe tu solución aquí:\n",
        "def calcular_total_pedido(precio_unitario, cantidad, impuesto=0.19):\n",
        "    subtotal = precio_unitario * cantidad\n",
        "    total = subtotal + (subtotal * impuesto)\n",
        "    return total\n",
        "\n",
        "# Prueba\n",
        "print(calcular_total_pedido(50, 3))\n"
      ],
      "metadata": {
        "colab": {
          "base_uri": "https://localhost:8080/"
        },
        "id": "OPQRldr9ROP7",
        "outputId": "83f9c9b7-12f0-4954-c66c-810ce2a461dc"
      },
      "execution_count": 3,
      "outputs": [
        {
          "output_type": "stream",
          "name": "stdout",
          "text": [
            "178.5\n"
          ]
        }
      ]
    },
    {
      "cell_type": "markdown",
      "source": [
        "🔁 Celda 4 – Funciones que retornan valores y los reutilizan"
      ],
      "metadata": {
        "id": "mnzYY59PSTEX"
      }
    },
    {
      "cell_type": "code",
      "source": [
        "def obtener_descuento(cliente_frecuente):\n",
        "    if cliente_frecuente:\n",
        "        return 0.15\n",
        "    else:\n",
        "        return 0.05\n",
        "\n",
        "def calcular_total_con_descuento(precio, cliente_frecuente):\n",
        "    descuento = obtener_descuento(cliente_frecuente)\n",
        "    return precio - (precio * descuento)\n",
        "\n",
        "# Prueba\n",
        "print(\"Total con descuento (cliente frecuente):\", calcular_total_con_descuento(200, True))\n",
        "print(\"Total con descuento (cliente nuevo):\", calcular_total_con_descuento(200, False))\n"
      ],
      "metadata": {
        "colab": {
          "base_uri": "https://localhost:8080/"
        },
        "id": "N2hPjNdpRSwD",
        "outputId": "cbe172f4-4fac-4ae7-89af-2835f754b9d2"
      },
      "execution_count": 4,
      "outputs": [
        {
          "output_type": "stream",
          "name": "stdout",
          "text": [
            "Total con descuento (cliente frecuente): 170.0\n",
            "Total con descuento (cliente nuevo): 190.0\n"
          ]
        }
      ]
    },
    {
      "cell_type": "markdown",
      "source": [
        "🧩 Celda 5 – Composición: funciones dentro de otras"
      ],
      "metadata": {
        "id": "qWMNR_MAScIc"
      }
    },
    {
      "cell_type": "code",
      "source": [
        "def es_mayor_de_edad(edad):\n",
        "    return edad >= 18\n",
        "\n",
        "def puede_votar(edad, ciudadano):\n",
        "    return es_mayor_de_edad(edad) and ciudadano\n",
        "\n",
        "# Prueba\n",
        "print(puede_votar(20, True))   # True\n",
        "print(puede_votar(17, True))   # False\n",
        "print(puede_votar(20, False))  # False\n"
      ],
      "metadata": {
        "colab": {
          "base_uri": "https://localhost:8080/"
        },
        "id": "Sgmn8CrcRZbc",
        "outputId": "74d7aff9-26d3-4167-8067-a1360982b2cd"
      },
      "execution_count": 5,
      "outputs": [
        {
          "output_type": "stream",
          "name": "stdout",
          "text": [
            "True\n",
            "False\n",
            "False\n"
          ]
        }
      ]
    },
    {
      "cell_type": "markdown",
      "source": [
        "🧠 Celda 6 – Reto final: combinación completa"
      ],
      "metadata": {
        "id": "7duZ2gvJSeti"
      }
    },
    {
      "cell_type": "code",
      "source": [
        "# 🎯 Reto: Crea un sistema que evalúe si una persona puede acceder a un crédito\n",
        "\n",
        "def verificar_ingresos(ingreso_mensual):\n",
        "    return ingreso_mensual >= 2000\n",
        "\n",
        "def verificar_historial_credito(score):\n",
        "    return score >= 600\n",
        "\n",
        "def es_elegible_credito(ingreso_mensual, score):\n",
        "    return verificar_ingresos(ingreso_mensual) and verificar_historial_credito(score)\n",
        "\n",
        "# Prueba\n",
        "print(\"¿Es elegible?:\", es_elegible_credito(2500, 650))  # True\n",
        "print(\"¿Es elegible?:\", es_elegible_credito(1800, 650))  # False\n"
      ],
      "metadata": {
        "colab": {
          "base_uri": "https://localhost:8080/"
        },
        "id": "JgIpOe1pRajd",
        "outputId": "b3455d0a-ae39-4532-8661-b212f8600bc9"
      },
      "execution_count": 6,
      "outputs": [
        {
          "output_type": "stream",
          "name": "stdout",
          "text": [
            "¿Es elegible?: True\n",
            "¿Es elegible?: False\n"
          ]
        }
      ]
    },
    {
      "cell_type": "markdown",
      "source": [
        "📝 Celda 7 – Tu turno: escribe una función compuesta personalizada"
      ],
      "metadata": {
        "id": "fLqmbZ5OSk6G"
      }
    },
    {
      "cell_type": "code",
      "source": [
        "# 📝 Crea una función llamada 'evaluar_beneficio_estudiante' que use otras dos funciones:\n",
        "# - verificar_nota_final(nota): True si nota >= 3.5\n",
        "# - verificar_asistencia(asistencia): True si asistencia >= 80\n",
        "# La función principal debe retornar True solo si ambas condiciones se cumplen.\n",
        "\n",
        "# Escribe tu solución aquí:\n",
        "def verificar_nota_final(nota):\n",
        "    return nota >= 3.5\n",
        "\n",
        "def verificar_asistencia(asistencia):\n",
        "    return asistencia >= 80\n",
        "\n",
        "def evaluar_beneficio_estudiante(nota, asistencia):\n",
        "    return verificar_nota_final(nota) and verificar_asistencia(asistencia)\n",
        "\n",
        "# Prueba\n",
        "print(evaluar_beneficio_estudiante(4.0, 90))  # True\n",
        "print(evaluar_beneficio_estudiante(3.0, 85))  # False\n"
      ],
      "metadata": {
        "colab": {
          "base_uri": "https://localhost:8080/"
        },
        "id": "yA7kR7aoRemJ",
        "outputId": "e0be15ac-f51f-43e4-e380-c388fa5ee862"
      },
      "execution_count": 7,
      "outputs": [
        {
          "output_type": "stream",
          "name": "stdout",
          "text": [
            "True\n",
            "False\n"
          ]
        }
      ]
    },
    {
      "cell_type": "markdown",
      "source": [
        "✅ ¿Qué sigue?"
      ],
      "metadata": {
        "id": "Pii4kAs_Sq78"
      }
    },
    {
      "cell_type": "code",
      "source": [
        "print(\"¡Excelente trabajo! Has aprendido a crear funciones robustas, reutilizables y compuestas.\")\n"
      ],
      "metadata": {
        "colab": {
          "base_uri": "https://localhost:8080/"
        },
        "id": "y62z_5piRjHr",
        "outputId": "5913edb6-4b8d-4ce5-e5ad-b356e1356a61"
      },
      "execution_count": 8,
      "outputs": [
        {
          "output_type": "stream",
          "name": "stdout",
          "text": [
            "¡Excelente trabajo! Has aprendido a crear funciones robustas, reutilizables y compuestas.\n"
          ]
        }
      ]
    }
  ]
}