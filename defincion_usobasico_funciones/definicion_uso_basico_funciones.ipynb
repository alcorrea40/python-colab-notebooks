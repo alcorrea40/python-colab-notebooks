{
  "cells": [
    {
      "cell_type": "markdown",
      "metadata": {
        "id": "view-in-github",
        "colab_type": "text"
      },
      "source": [
        "<a href=\"https://colab.research.google.com/github/alcorrea40/python-colab-notebooks/blob/main/definicion_uso_basico_funciones.ipynb\" target=\"_parent\"><img src=\"https://colab.research.google.com/assets/colab-badge.svg\" alt=\"Open In Colab\"/></a>"
      ]
    },
    {
      "cell_type": "markdown",
      "metadata": {
        "id": "fdzyXTZWwApM"
      },
      "source": [
        "# 🧩 Actividad Interactiva #1: Definición y uso básico de funciones\n",
        "\n",
        "En esta actividad aprenderás a definir funciones en Python, imprimir mensajes desde funciones, hacer cálculos simples y retornar valores."
      ]
    },
    {
      "cell_type": "markdown",
      "metadata": {
        "id": "p9NRRhgvwApO"
      },
      "source": [
        "## 📌 Ejemplo 1: Función que imprime un mensaje\n",
        "```python\n",
        "def saludar():\n",
        "    print(\"¡Hola! Bienvenido a Python.\")\n",
        "\n",
        "saludar()\n",
        "```"
      ]
    },
    {
      "cell_type": "markdown",
      "metadata": {
        "id": "NtxsbcoEwApP"
      },
      "source": [
        "## 📌 Ejemplo 2: Función que realiza una suma\n",
        "```python\n",
        "def sumar(a, b):\n",
        "    resultado = a + b\n",
        "    return resultado\n",
        "\n",
        "print(\"La suma es:\", sumar(3, 5))\n",
        "```"
      ]
    },
    {
      "cell_type": "markdown",
      "metadata": {
        "id": "nEOybSZpwApP"
      },
      "source": [
        "## 🎯 Ejercicio 1\n",
        "Escribe una función llamada `presentacion()` que imprima tu nombre y tu lenguaje de programación favorito."
      ]
    },
    {
      "cell_type": "code",
      "metadata": {
        "id": "MdDOdrVEwApQ",
        "outputId": "a7706217-a819-4f2e-cacd-5b0b6e5c1812",
        "colab": {
          "base_uri": "https://localhost:8080/"
        }
      },
      "execution_count": 1,
      "outputs": [
        {
          "output_type": "stream",
          "name": "stdout",
          "text": [
            "Mi nombre es Ana y mi lenguaje favorito es Python.\n"
          ]
        }
      ],
      "source": [
        "# Tu código aquí\n",
        "def presentacion():\n",
        "    print(\"Mi nombre es Ana y mi lenguaje favorito es Python.\")\n",
        "\n",
        "presentacion()"
      ]
    },
    {
      "cell_type": "markdown",
      "metadata": {
        "id": "yNzfseCTwApQ"
      },
      "source": [
        "## 🎯 Ejercicio 2\n",
        "Crea una función llamada `multiplicar_por_dos(numero)` que tome un número como argumento y retorne el resultado de multiplicarlo por 2."
      ]
    },
    {
      "cell_type": "code",
      "metadata": {
        "id": "katJTDG8wApQ",
        "outputId": "7430c9f2-6f59-4358-fc15-a64d0b20ab2c",
        "colab": {
          "base_uri": "https://localhost:8080/"
        }
      },
      "execution_count": 2,
      "outputs": [
        {
          "output_type": "stream",
          "name": "stdout",
          "text": [
            "14\n"
          ]
        }
      ],
      "source": [
        "# Tu código aquí\n",
        "def multiplicar_por_dos(numero):\n",
        "    return numero * 2\n",
        "\n",
        "print(multiplicar_por_dos(7))"
      ]
    }
  ],
  "metadata": {
    "kernelspec": {
      "display_name": "Python 3",
      "language": "python",
      "name": "python3"
    },
    "language_info": {
      "name": "python",
      "version": ""
    },
    "colab": {
      "provenance": [],
      "include_colab_link": true
    }
  },
  "nbformat": 4,
  "nbformat_minor": 0
}
