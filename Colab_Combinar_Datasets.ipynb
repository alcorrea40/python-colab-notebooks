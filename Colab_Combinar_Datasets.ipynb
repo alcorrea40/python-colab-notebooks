{
  "cells": [
    {
      "cell_type": "markdown",
      "metadata": {
        "id": "view-in-github",
        "colab_type": "text"
      },
      "source": [
        "<a href=\"https://colab.research.google.com/github/alcorrea40/python-colab-notebooks/blob/main/Colab_Combinar_Datasets.ipynb\" target=\"_parent\"><img src=\"https://colab.research.google.com/assets/colab-badge.svg\" alt=\"Open In Colab\"/></a>"
      ]
    },
    {
      "cell_type": "markdown",
      "id": "87673d6c",
      "metadata": {
        "id": "87673d6c"
      },
      "source": [
        "# Actividad Interactiva #1: Combinando datasets: `merge()` y `concat()`\n",
        "En este cuaderno aprenderás a combinar estructuras de datos con `pandas` usando `concat()`, `merge()` y `join()`, y a detectar duplicados y valores faltantes generados durante estos procesos."
      ]
    },
    {
      "cell_type": "markdown",
      "id": "18e6a60e",
      "metadata": {
        "id": "18e6a60e"
      },
      "source": [
        "## 1. Concatenación con `concat()`"
      ]
    },
    {
      "cell_type": "code",
      "execution_count": 1,
      "id": "f2366751",
      "metadata": {
        "id": "f2366751",
        "outputId": "78515cc4-12da-4905-db4a-398f21899ce4",
        "colab": {
          "base_uri": "https://localhost:8080/"
        }
      },
      "outputs": [
        {
          "output_type": "stream",
          "name": "stdout",
          "text": [
            "Concatenación vertical:\n",
            "   A  B\n",
            "0  1  3\n",
            "1  2  4\n",
            "0  5  7\n",
            "1  6  8\n",
            "Concatenación horizontal:\n",
            "   A  B  A  B\n",
            "0  1  3  5  7\n",
            "1  2  4  6  8\n"
          ]
        }
      ],
      "source": [
        "import pandas as pd\n",
        "\n",
        "# Crear dos DataFrames\n",
        "df1 = pd.DataFrame({'A': [1, 2], 'B': [3, 4]})\n",
        "df2 = pd.DataFrame({'A': [5, 6], 'B': [7, 8]})\n",
        "\n",
        "# Concatenar por filas (axis=0)\n",
        "print('Concatenación vertical:')\n",
        "print(pd.concat([df1, df2], axis=0))\n",
        "\n",
        "# Concatenar por columnas (axis=1)\n",
        "print('Concatenación horizontal:')\n",
        "print(pd.concat([df1, df2], axis=1))"
      ]
    },
    {
      "cell_type": "markdown",
      "id": "8cc9063e",
      "metadata": {
        "id": "8cc9063e"
      },
      "source": [
        "## 2. Fusión con `merge()`"
      ]
    },
    {
      "cell_type": "code",
      "execution_count": 2,
      "id": "dd10313a",
      "metadata": {
        "id": "dd10313a",
        "outputId": "2a5e401e-379e-4974-d573-882e3dfdb4e7",
        "colab": {
          "base_uri": "https://localhost:8080/"
        }
      },
      "outputs": [
        {
          "output_type": "stream",
          "name": "stdout",
          "text": [
            "Inner merge:\n",
            "  key  value  score\n",
            "0   B     20    100\n",
            "1   C     30    200\n"
          ]
        }
      ],
      "source": [
        "# Crear DataFrames con columna clave\n",
        "left = pd.DataFrame({'key': ['A', 'B', 'C'], 'value': [10, 20, 30]})\n",
        "right = pd.DataFrame({'key': ['B', 'C', 'D'], 'score': [100, 200, 300]})\n",
        "\n",
        "# Merge tipo inner\n",
        "print('Inner merge:')\n",
        "print(pd.merge(left, right, on='key', how='inner'))"
      ]
    },
    {
      "cell_type": "markdown",
      "id": "7cb27709",
      "metadata": {
        "id": "7cb27709"
      },
      "source": [
        "## 3. Tipos de `merge()`"
      ]
    },
    {
      "cell_type": "code",
      "execution_count": 3,
      "id": "f9afdc59",
      "metadata": {
        "id": "f9afdc59",
        "outputId": "b4fdbeb2-d4f8-4dd0-cf17-99b9ced3ee7a",
        "colab": {
          "base_uri": "https://localhost:8080/"
        }
      },
      "outputs": [
        {
          "output_type": "stream",
          "name": "stdout",
          "text": [
            "Left merge:\n",
            "  key  value  score\n",
            "0   A     10    NaN\n",
            "1   B     20  100.0\n",
            "2   C     30  200.0\n",
            "Right merge:\n",
            "  key  value  score\n",
            "0   B   20.0    100\n",
            "1   C   30.0    200\n",
            "2   D    NaN    300\n",
            "Outer merge:\n",
            "  key  value  score\n",
            "0   A   10.0    NaN\n",
            "1   B   20.0  100.0\n",
            "2   C   30.0  200.0\n",
            "3   D    NaN  300.0\n"
          ]
        }
      ],
      "source": [
        "print('Left merge:')\n",
        "print(pd.merge(left, right, on='key', how='left'))\n",
        "\n",
        "print('Right merge:')\n",
        "print(pd.merge(left, right, on='key', how='right'))\n",
        "\n",
        "print('Outer merge:')\n",
        "print(pd.merge(left, right, on='key', how='outer'))"
      ]
    },
    {
      "cell_type": "markdown",
      "id": "9351c87e",
      "metadata": {
        "id": "9351c87e"
      },
      "source": [
        "## 4. `join()` con índices"
      ]
    },
    {
      "cell_type": "code",
      "execution_count": 4,
      "id": "d804e4a4",
      "metadata": {
        "id": "d804e4a4",
        "outputId": "bdff9dbe-3f83-4742-9b81-96cd6a7cac80",
        "colab": {
          "base_uri": "https://localhost:8080/"
        }
      },
      "outputs": [
        {
          "output_type": "stream",
          "name": "stdout",
          "text": [
            "   A  B\n",
            "x  1  4\n",
            "y  2  5\n",
            "z  3  6\n"
          ]
        }
      ],
      "source": [
        "# Crear DataFrames con índice\n",
        "df1 = pd.DataFrame({'A': [1, 2, 3]}, index=['x', 'y', 'z'])\n",
        "df2 = pd.DataFrame({'B': [4, 5, 6]}, index=['x', 'y', 'z'])\n",
        "\n",
        "# Usar join()\n",
        "print(df1.join(df2))"
      ]
    },
    {
      "cell_type": "markdown",
      "id": "02b13800",
      "metadata": {
        "id": "02b13800"
      },
      "source": [
        "## 5. Detección de duplicados y valores nulos"
      ]
    },
    {
      "cell_type": "code",
      "execution_count": 5,
      "id": "43e4f73a",
      "metadata": {
        "id": "43e4f73a",
        "outputId": "b9bc86b5-4849-4108-f859-b49d03bc01bb",
        "colab": {
          "base_uri": "https://localhost:8080/"
        }
      },
      "outputs": [
        {
          "output_type": "stream",
          "name": "stdout",
          "text": [
            "Ver duplicados:\n",
            "0    False\n",
            "1    False\n",
            "2    False\n",
            "3    False\n",
            "dtype: bool\n",
            "Conteo de valores nulos:\n",
            "key      0\n",
            "value    1\n",
            "score    1\n",
            "dtype: int64\n"
          ]
        }
      ],
      "source": [
        "merged = pd.merge(left, right, on='key', how='outer')\n",
        "print('Ver duplicados:')\n",
        "print(merged.duplicated())\n",
        "\n",
        "print('Conteo de valores nulos:')\n",
        "print(merged.isnull().sum())"
      ]
    },
    {
      "cell_type": "markdown",
      "id": "e64fe257",
      "metadata": {
        "id": "e64fe257"
      },
      "source": [
        "## ✅ Conclusión\n",
        "Ahora sabes cómo combinar DataFrames usando `concat()`, `merge()` y `join()` en pandas, y cómo manejar los valores duplicados o faltantes que puedan surgir al hacerlo. ¡Aplica esto en tus propios conjuntos de datos!"
      ]
    }
  ],
  "metadata": {
    "colab": {
      "provenance": [],
      "include_colab_link": true
    },
    "language_info": {
      "name": "python"
    },
    "kernelspec": {
      "name": "python3",
      "display_name": "Python 3"
    }
  },
  "nbformat": 4,
  "nbformat_minor": 5
}