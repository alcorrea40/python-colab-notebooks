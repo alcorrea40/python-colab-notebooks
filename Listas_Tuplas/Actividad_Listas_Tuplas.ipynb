{
  "cells": [
    {
      "cell_type": "markdown",
      "metadata": {
        "id": "view-in-github",
        "colab_type": "text"
      },
      "source": [
        "<a href=\"https://colab.research.google.com/github/alcorrea40/python-colab-notebooks/blob/main/Actividad_Listas_Tuplas.ipynb\" target=\"_parent\"><img src=\"https://colab.research.google.com/assets/colab-badge.svg\" alt=\"Open In Colab\"/></a>"
      ]
    },
    {
      "cell_type": "markdown",
      "id": "6116ab8c",
      "metadata": {
        "id": "6116ab8c"
      },
      "source": [
        "# Actividad: Trabajando con listas y tuplas"
      ]
    },
    {
      "cell_type": "markdown",
      "id": "93156154",
      "metadata": {
        "id": "93156154"
      },
      "source": [
        "## 1. Listas"
      ]
    },
    {
      "cell_type": "code",
      "execution_count": null,
      "id": "13366920",
      "metadata": {
        "id": "13366920"
      },
      "outputs": [],
      "source": [
        "frutas = ['manzana', 'banana', 'cereza']\n",
        "print(frutas)\n",
        "frutas.append('kiwi')\n",
        "frutas.insert(1, 'naranja')\n",
        "frutas.sort()\n",
        "print(frutas)"
      ]
    },
    {
      "cell_type": "markdown",
      "id": "1f722fb6",
      "metadata": {
        "id": "1f722fb6"
      },
      "source": [
        "## 2. Acceso y conteo"
      ]
    },
    {
      "cell_type": "code",
      "execution_count": null,
      "id": "cea1b3ca",
      "metadata": {
        "id": "cea1b3ca"
      },
      "outputs": [],
      "source": [
        "print('Primera fruta:', frutas[0])\n",
        "print('Total de bananas:', frutas.count('banana'))"
      ]
    },
    {
      "cell_type": "markdown",
      "id": "d8e3adb7",
      "metadata": {
        "id": "d8e3adb7"
      },
      "source": [
        "## 3. Tuplas"
      ]
    },
    {
      "cell_type": "code",
      "execution_count": null,
      "id": "15ec2394",
      "metadata": {
        "id": "15ec2394"
      },
      "outputs": [],
      "source": [
        "colores = ('rojo', 'verde', 'azul')\n",
        "print(colores)\n",
        "print('Segundo color:', colores[1])"
      ]
    },
    {
      "cell_type": "markdown",
      "id": "c58bb765",
      "metadata": {
        "id": "c58bb765"
      },
      "source": [
        "## Reto 💡\n",
        "Crea una lista con tus películas favoritas y ordénalas alfabéticamente. Luego crea una tupla con tus colores preferidos y accede al último elemento."
      ]
    }
  ],
  "metadata": {
    "colab": {
      "provenance": [],
      "include_colab_link": true
    }
  },
  "nbformat": 4,
  "nbformat_minor": 5
}