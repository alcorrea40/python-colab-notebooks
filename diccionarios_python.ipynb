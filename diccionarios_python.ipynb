{
  "cells": [
    {
      "cell_type": "markdown",
      "metadata": {
        "id": "view-in-github",
        "colab_type": "text"
      },
      "source": [
        "<a href=\"https://colab.research.google.com/github/alcorrea40/python-colab-notebooks/blob/main/diccionarios_python.ipynb\" target=\"_parent\"><img src=\"https://colab.research.google.com/assets/colab-badge.svg\" alt=\"Open In Colab\"/></a>"
      ]
    },
    {
      "cell_type": "markdown",
      "metadata": {
        "id": "VXmVeo0H8R6k"
      },
      "source": [
        "# Diccionarios en Python\n",
        "\n",
        "Los diccionarios son estructuras de datos que almacenan pares clave-valor. Son útiles para representar información estructurada como registros de estudiantes, productos, etc."
      ],
      "id": "VXmVeo0H8R6k"
    },
    {
      "cell_type": "code",
      "execution_count": 1,
      "metadata": {
        "id": "b90jwlpV8R6m",
        "outputId": "2ae1208a-a9d4-4bcf-eba2-9a7be36cf094",
        "colab": {
          "base_uri": "https://localhost:8080/"
        }
      },
      "outputs": [
        {
          "output_type": "stream",
          "name": "stdout",
          "text": [
            "{'nombre': 'Ana', 'edad': 21, 'carrera': 'Ingeniería', 'promedio': 4.3}\n"
          ]
        }
      ],
      "source": [
        "# Crear un diccionario de ejemplo\n",
        "estudiante = {\n",
        "    \"nombre\": \"Ana\",\n",
        "    \"edad\": 21,\n",
        "    \"carrera\": \"Ingeniería\",\n",
        "    \"promedio\": 4.3\n",
        "}\n",
        "\n",
        "print(estudiante)"
      ],
      "id": "b90jwlpV8R6m"
    },
    {
      "cell_type": "markdown",
      "metadata": {
        "id": "LsMXJ7HM8R6n"
      },
      "source": [
        "## Acceso a elementos"
      ],
      "id": "LsMXJ7HM8R6n"
    },
    {
      "cell_type": "code",
      "execution_count": 2,
      "metadata": {
        "id": "HXCoZiBG8R6n",
        "outputId": "7c754c89-a9a3-47ab-e2d8-48e392ab0e4e",
        "colab": {
          "base_uri": "https://localhost:8080/"
        }
      },
      "outputs": [
        {
          "output_type": "stream",
          "name": "stdout",
          "text": [
            "Nombre: Ana\n",
            "Promedio: 4.3\n"
          ]
        }
      ],
      "source": [
        "# Acceder a valores usando la clave\n",
        "print(\"Nombre:\", estudiante[\"nombre\"])\n",
        "print(\"Promedio:\", estudiante.get(\"promedio\"))"
      ],
      "id": "HXCoZiBG8R6n"
    },
    {
      "cell_type": "markdown",
      "metadata": {
        "id": "yL3NpMjE8R6n"
      },
      "source": [
        "## Modificación y adición"
      ],
      "id": "yL3NpMjE8R6n"
    },
    {
      "cell_type": "code",
      "execution_count": 3,
      "metadata": {
        "id": "LpzgKXBU8R6n",
        "outputId": "84b6a54d-dac7-4218-8832-0b2a5a141b2c",
        "colab": {
          "base_uri": "https://localhost:8080/"
        }
      },
      "outputs": [
        {
          "output_type": "stream",
          "name": "stdout",
          "text": [
            "{'nombre': 'Ana', 'edad': 21, 'carrera': 'Ingeniería', 'promedio': 4.5, 'becado': True}\n"
          ]
        }
      ],
      "source": [
        "# Modificar un valor\n",
        "estudiante[\"promedio\"] = 4.5\n",
        "\n",
        "# Agregar una nueva clave\n",
        "estudiante[\"becado\"] = True\n",
        "print(estudiante)"
      ],
      "id": "LpzgKXBU8R6n"
    },
    {
      "cell_type": "markdown",
      "metadata": {
        "id": "s9MjbbJI8R6n"
      },
      "source": [
        "## Eliminación de elementos"
      ],
      "id": "s9MjbbJI8R6n"
    },
    {
      "cell_type": "code",
      "execution_count": 4,
      "metadata": {
        "id": "0Auj7x9f8R6o",
        "outputId": "68e89f15-ea02-4fb2-b338-a456270eca6f",
        "colab": {
          "base_uri": "https://localhost:8080/"
        }
      },
      "outputs": [
        {
          "output_type": "stream",
          "name": "stdout",
          "text": [
            "{'nombre': 'Ana', 'carrera': 'Ingeniería', 'promedio': 4.5, 'becado': True}\n"
          ]
        }
      ],
      "source": [
        "# Eliminar un elemento\n",
        "del estudiante[\"edad\"]\n",
        "print(estudiante)"
      ],
      "id": "0Auj7x9f8R6o"
    },
    {
      "cell_type": "markdown",
      "metadata": {
        "id": "ldMz7Rus8R6o"
      },
      "source": [
        "## Iteración sobre un diccionario"
      ],
      "id": "ldMz7Rus8R6o"
    },
    {
      "cell_type": "code",
      "execution_count": 5,
      "metadata": {
        "id": "lM4hQyM68R6o",
        "outputId": "038a59c7-2a1b-41ea-9d18-c6beb9ccb337",
        "colab": {
          "base_uri": "https://localhost:8080/"
        }
      },
      "outputs": [
        {
          "output_type": "stream",
          "name": "stdout",
          "text": [
            "nombre: Ana\n",
            "carrera: Ingeniería\n",
            "promedio: 4.5\n",
            "becado: True\n"
          ]
        }
      ],
      "source": [
        "# Recorrer claves y valores\n",
        "for clave, valor in estudiante.items():\n",
        "    print(f\"{clave}: {valor}\")"
      ],
      "id": "lM4hQyM68R6o"
    }
  ],
  "metadata": {
    "kernelspec": {
      "display_name": "Python 3",
      "language": "python",
      "name": "python3"
    },
    "language_info": {
      "name": "python",
      "version": "3.x"
    },
    "colab": {
      "provenance": [],
      "include_colab_link": true
    }
  },
  "nbformat": 4,
  "nbformat_minor": 5
}